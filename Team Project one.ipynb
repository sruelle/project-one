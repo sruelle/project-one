{
 "cells": [
  {
   "cell_type": "code",
   "execution_count": null,
   "metadata": {},
   "outputs": [],
   "source": [
    "import pandas as pd\n",
    "import glob\n"
   ]
  },
  {
   "cell_type": "code",
   "execution_count": null,
   "metadata": {},
   "outputs": [],
   "source": [
    "# Mercy codes starts here\n",
    "#import dependencies\n",
    "import pandas as pd\n",
    "import matplotlib.pyplot as plt\n",
    "import scipy.stats as sts\n",
    "import numpy as np\n",
    "import glob\n",
    "import matplotlib.patches as mpatches\n",
    "import warnings\n",
    "warnings.simplefilter(action='ignore', category=FutureWarning)\n",
    "%matplotlib inline\n"
   ]
  },
  {
   "cell_type": "code",
   "execution_count": null,
   "metadata": {},
   "outputs": [],
   "source": [
    "#Reading the files, combining data\n",
    "path = r'./Resources/' # use your path\n",
    "\n",
    "all_files = glob.glob(path + \"/*_Quality_*.csv\")\n",
    "\n",
    "all_files\n",
    "li = []\n",
    "\n",
    "for filename in all_files:\n",
    "\n",
    "     df = pd.read_csv(filename, index_col=None, header=0)\n",
    "\n",
    "     li.append(df)\n",
    "\n",
    "QOL_df = pd.concat(li, axis=0, ignore_index=True)\n",
    "\n",
    "suicide_rates_df = pd.read_csv(path + \"suicide-death-rates-by-sex.csv\")\n",
    "\n",
    "suicide_rates_df = suicide_rates_df.rename(columns={\"Entity\":\"Country\"})\n",
    "\n",
    "combined_QOF_df = pd.merge(suicide_rates_df, QOL_df, how='inner', on=['Country', 'Year'])\n",
    "\n"
   ]
  },
  {
   "cell_type": "code",
   "execution_count": null,
   "metadata": {
    "scrolled": true
   },
   "outputs": [],
   "source": [
    "#QUALITY OF LIFE RANKING\n",
    "#Rank 2013 by quality of life\n",
    "QOL_rank_2013_df=combined_QOF_df[combined_QOF_df['Year']==2013][['Country','Year','Quality of Life Index','Both sexes (deaths per 100,000)']]\n",
    "QOL_rank_2013_df[['QOF_rank']]=QOL_rank_2013_df[['Quality of Life Index']].rank(ascending=False)\n",
    "QOL_rank_2013_1_df=QOL_rank_2013_df.loc[QOL_rank_2013_df['QOF_rank']<=20].sort_values('QOF_rank')\n",
    "QOL_rank_2013_2_df=QOL_rank_2013_df.loc[(QOL_rank_2013_df['QOF_rank']>=21) & (QOL_rank_2013_df['QOF_rank']<=40)].sort_values('QOF_rank')\n",
    "QOL_rank_2013_3_df=QOL_rank_2013_df.loc[(QOL_rank_2013_df['QOF_rank']>=41) & (QOL_rank_2013_df['QOF_rank']<=60)].sort_values('QOF_rank')# #2013 QOL\n",
    "\n",
    "Median_Suicide_rate_2013_1=QOL_rank_2013_1_df.groupby('Year').median()\n",
    "Median_Suicide_rate_2013_1['Group1']=['1']\n",
    "Median_Suicide_rate_2013_2=QOL_rank_2013_2_df.groupby('Year').median()\n",
    "Median_Suicide_rate_2013_2['Group2']=['2']\n",
    "Median_Suicide_rate_2013_3=QOL_rank_2013_3_df.groupby('Year').median()\n",
    "Median_Suicide_rate_2013_3['Group3']=['3']\n",
    "Median_Suicide_rate_2013_3\n",
    "\n",
    "\n",
    "# #Rank 2014 by quality of life\n",
    "QOL_rank_2014_df=combined_QOF_df.loc[combined_QOF_df['Year']==2014][['Country','Year','Quality of Life Index','Both sexes (deaths per 100,000)']]\n",
    "QOL_rank_2014_df[['QOF_rank']]=QOL_rank_2014_df[['Quality of Life Index']].rank(ascending=False)\n",
    "QOL_rank_2014_1_df=QOL_rank_2014_df.loc[QOL_rank_2014_df['QOF_rank']<=20].sort_values('QOF_rank')\n",
    "QOL_rank_2014_2_df=QOL_rank_2014_df.loc[(QOL_rank_2014_df['QOF_rank']>=21) & (QOL_rank_2014_df['QOF_rank']<=40)].sort_values('QOF_rank')\n",
    "QOL_rank_2014_3_df=QOL_rank_2014_df.loc[(QOL_rank_2014_df['QOF_rank']>=41) & (QOL_rank_2014_df['QOF_rank']<=60)].sort_values('QOF_rank')\n",
    "\n",
    "Median_Suicide_rate_2014_1=QOL_rank_2014_1_df.groupby('Year').median()\n",
    "Median_Suicide_rate_2014_1['Group1']=['1']\n",
    "Median_Suicide_rate_2014_2=QOL_rank_2014_2_df.groupby('Year').median()\n",
    "Median_Suicide_rate_2014_2['Group2']=['2']\n",
    "Median_Suicide_rate_2014_3=QOL_rank_2014_3_df.groupby('Year').median()\n",
    "Median_Suicide_rate_2014_3['Group3']=['3']\n",
    "Median_Suicide_rate_2014_3\n",
    "\n",
    "# # #Rank 2015 by quality of life\n",
    "QOL_rank_2015_df=combined_QOF_df.loc[combined_QOF_df['Year']==2015][['Country','Year','Quality of Life Index','Both sexes (deaths per 100,000)']]\n",
    "QOL_rank_2015_df[['QOF_rank']]=QOL_rank_2015_df[['Quality of Life Index']].rank(ascending=False)\n",
    "QOL_rank_2015_1_df=QOL_rank_2015_df.loc[QOL_rank_2015_df['QOF_rank']<=20].sort_values('QOF_rank')\n",
    "QOL_rank_2015_2_df=QOL_rank_2015_df.loc[(QOL_rank_2015_df['QOF_rank']>=21) & (QOL_rank_2015_df['QOF_rank']<=40)].sort_values('QOF_rank')\n",
    "QOL_rank_2015_3_df=QOL_rank_2015_df.loc[(QOL_rank_2015_df['QOF_rank']>=41) & (QOL_rank_2015_df['QOF_rank']<=60)].sort_values('QOF_rank')\n",
    "\n",
    "Median_Suicide_rate_2015_1=QOL_rank_2015_1_df.groupby('Year').median()\n",
    "Median_Suicide_rate_2015_1['Group1']=['1']\n",
    "Median_Suicide_rate_2015_2=QOL_rank_2015_2_df.groupby('Year').median()\n",
    "Median_Suicide_rate_2015_2['Group2']=['2']\n",
    "Median_Suicide_rate_2015_3=QOL_rank_2015_3_df.groupby('Year').median()\n",
    "Median_Suicide_rate_2015_3['Group3']=['3']\n",
    "Median_Suicide_rate_2015_3\n",
    "\n",
    "\n",
    "# # #Rank 2016 by quality of life\n",
    "QOL_rank_2016_df=combined_QOF_df.loc[combined_QOF_df['Year']==2016][['Country','Year','Quality of Life Index','Both sexes (deaths per 100,000)']]\n",
    "QOL_rank_2016_df[['QOF_rank']]=QOL_rank_2016_df[['Quality of Life Index']].rank(ascending=False)\n",
    "QOL_rank_2016_1_df=QOL_rank_2016_df.loc[QOL_rank_2016_df['QOF_rank']<=20].sort_values('QOF_rank')\n",
    "QOL_rank_2016_2_df=QOL_rank_2016_df.loc[(QOL_rank_2016_df['QOF_rank']>=21) & (QOL_rank_2016_df['QOF_rank']<=40)].sort_values('QOF_rank')\n",
    "QOL_rank_2016_3_df=QOL_rank_2016_df.loc[(QOL_rank_2016_df['QOF_rank']>=41) & (QOL_rank_2016_df['QOF_rank']<=60)].sort_values('QOF_rank')\n",
    "\n",
    "Median_Suicide_rate_2016_1=QOL_rank_2016_1_df.groupby('Year').median()\n",
    "Median_Suicide_rate_2016_1['Group1']=['1']\n",
    "Median_Suicide_rate_2016_2=QOL_rank_2016_2_df.groupby('Year').median()\n",
    "Median_Suicide_rate_2016_2['Group2']=['2']\n",
    "Median_Suicide_rate_2016_3=QOL_rank_2016_3_df.groupby('Year').median()\n",
    "Median_Suicide_rate_2016_3['Group3']=['3']\n",
    "Median_Suicide_rate_2016_3\n",
    "\n",
    "QOF_combined_df=pd.concat((Median_Suicide_rate_2013_1,Median_Suicide_rate_2013_2,Median_Suicide_rate_2013_3,\n",
    "                   Median_Suicide_rate_2014_1,Median_Suicide_rate_2014_2,Median_Suicide_rate_2014_3,\n",
    "                  Median_Suicide_rate_2015_1,Median_Suicide_rate_2015_2,Median_Suicide_rate_2015_3,\n",
    "                  Median_Suicide_rate_2016_1,Median_Suicide_rate_2016_2,Median_Suicide_rate_2016_3), axis=0)\n",
    "QOF_combined_df=QOF_combined_df.fillna(0)\n",
    "QOF_combined_df\n",
    "\n",
    "\n"
   ]
  },
  {
   "cell_type": "code",
   "execution_count": null,
   "metadata": {
    "scrolled": true
   },
   "outputs": [],
   "source": [
    "#plot the graph\n",
    "years=[2013,2014,2015,2016]\n",
    "x_axis = np.arange(len(years))\n",
    "bar_width=0.35\n",
    "\n",
    "fig, ax = plt.subplots()\n",
    "plt.figure(figsize=(8,4))\n",
    "\n",
    "width = 0.25         # the width of the bars\n",
    "p1 = ax.bar(x_axis, QOF_combined_df[QOF_combined_df['Group1']=='1']['Both sexes (deaths per 100,000)'],color='b', width=width)\n",
    "p2 = ax.bar(x_axis + width, QOF_combined_df[QOF_combined_df['Group2']=='2']['Both sexes (deaths per 100,000)'],color='y', width=width)\n",
    "p3 = ax.bar(x_axis + width + width , QOF_combined_df[QOF_combined_df['Group3']=='3']['Both sexes (deaths per 100,000)'], color='r', width=width)\n",
    "\n",
    "ax.set_title('Suicide rates and Quality of life')\n",
    "ax.set_xticks(x_axis+ width / 2)\n",
    "ax.set_xticklabels(('2013', '2014', '2015', '2016'))\n",
    "ax.set_xlabel('Year')\n",
    "ax.set_ylabel('Median Suicide deaths per 100,000')\n",
    "\n",
    "\n",
    "ax.legend((p1[0], p2[0],p3[0]), ('High_QOF', 'Medium_QOF','Low_QOL'),fontsize = 10,  bbox_to_anchor=(1.0, 0.5))\n",
    "\n",
    "ax.autoscale_view()\n",
    "\n",
    "plt.show()\n"
   ]
  },
  {
   "cell_type": "code",
   "execution_count": null,
   "metadata": {},
   "outputs": [],
   "source": [
    "#Conclusion\n",
    "#Countries with low quality of life have low suicide rates\n"
   ]
  },
  {
   "cell_type": "code",
   "execution_count": null,
   "metadata": {},
   "outputs": [],
   "source": [
    "fig, ax = plt.subplots(figsize=(15,7))\n",
    "Median_Suicide_rate_2016_1.groupby(['Year','Group1']).median()['Both sexes (deaths per 100,000)'].plot(ax=ax)\n",
    "plt.show()"
   ]
  },
  {
   "cell_type": "code",
   "execution_count": null,
   "metadata": {},
   "outputs": [],
   "source": [
    "# Mercy codes ends here"
   ]
  },
  {
   "cell_type": "code",
   "execution_count": null,
   "metadata": {},
   "outputs": [],
   "source": [
    "# Ash codes starts here\n",
    "\n",
    "#Ash just adding some notes\n",
    "print(\"Ash starts here\")\n",
    "#Note 1\n",
    "#Note 2\n",
    "#Note 3"
   ]
  },
  {
   "cell_type": "code",
   "execution_count": null,
   "metadata": {},
   "outputs": [],
   "source": [
    "\n",
    "#These four files are the same they contain year - just append them into a dataframe\n",
    "path = r'./Resources/' # use your path\n",
    "\n",
    "all_files = glob.glob(path + \"/*_Quality_*.csv\")\n",
    "\n",
    "all_files\n",
    "li = []\n",
    "\n",
    "for filename in all_files:\n",
    "\n",
    "     df = pd.read_csv(filename, index_col=None, header=0)\n",
    "\n",
    "     li.append(df)\n",
    "\n",
    "QOL_df = pd.concat(li, axis=0, ignore_index=True)\n",
    "\n",
    "#Bring in suicide file\n",
    "suicide_rates_df = pd.read_csv(suicide_rates)\n",
    "#rename entity column to country\n",
    "suicide_rates_df = suicide_rates_df.rename(columns={\"Entity\":\"Country\"})\n",
    "\n",
    "\n",
    "#Inner join Suicide_rates_df with frame\n",
    "combined_QOF_df = pd.merge(suicide_rates_df, QOL_df, how='inner', on=['Country', 'Year'])\n",
    "\n",
    "combined_QOF_df  #This data frame should have everything we need to do analysis.\n",
    "\n",
    "#frame view fram make sure its ok. you can output file on a mac with command below to view in excel\n",
    "#Output file to see what output looks like\n",
    "#combined_QOF_df.to_csv(r'c:\\Users\\Ashwin Patel\\Desktop\\export_226dataframe.csv')\n",
    "#QOL_df.to_csv(r'c:\\Users\\Ashwin Patel\\Desktop\\export_227dataframe.csv')\n",
    "\n"
   ]
  },
  {
   "cell_type": "code",
   "execution_count": null,
   "metadata": {},
   "outputs": [],
   "source": [
    "#Ash ends here"
   ]
  },
  {
   "cell_type": "code",
   "execution_count": null,
   "metadata": {},
   "outputs": [],
   "source": [
    "# Onome codes starts here"
   ]
  },
  {
   "cell_type": "code",
   "execution_count": null,
   "metadata": {},
   "outputs": [],
   "source": [
    "# Take in all of Quality of Life data and read it into pandas\n",
    "\n",
    "quality_of_life_2013 = \"./Resources/2013_Quality_of_life_data.csv\"\n",
    "quality_of_life_2014 = \"./Resources/2014_Quality_of_life_data.csv\"\n",
    "quality_of_life_2015 = \"./Resources/2015_Quality_of_life_data.csv\"\n",
    "quality_of_life_2016 = \"./Resources/2016_Quality_of_life_data.csv\"\n",
    "suicide_rates = \"./Resources/suicide-death-rates-by-sex.csv\"\n",
    "\n",
    "quality_of_life_2013_df = pd.read_csv(quality_of_life_2013)\n",
    "quality_of_life_2014_df = pd.read_csv(quality_of_life_2014)\n",
    "quality_of_life_2015_df = pd.read_csv(quality_of_life_2015)\n",
    "quality_of_life_2016_df = pd.read_csv(quality_of_life_2016)\n",
    "suicide_rates_df = pd.read_csv(suicide_rates)\n",
    "\n",
    "quality_of_life_2013_df"
   ]
  },
  {
   "cell_type": "code",
   "execution_count": null,
   "metadata": {},
   "outputs": [],
   "source": [
    "# Merge the first two datasets on \"quality of life\" \n",
    "combined_QOF_df = pd.merge(quality_of_life_2013_df, quality_of_life_2014_df, on='Country')\n",
    "\n",
    "\n",
    "# Rename our _x columns to have year appened to each column name\n",
    "combined_QOF_df = combined_QOF_df.rename(columns={\"Rank_x\":\"2013 Rank\",\n",
    "                                                  \"Year_x\":\"Year 2013\",\n",
    "                                                  \"Quality of Life Index_x\":\"2013 Quality of Life Index\",\n",
    "                                                  \"Purchasing Power Index_x\":\"2013 Purchasing Power Index\",\n",
    "                                                  \"Safety Index_x\":\"2013 Safety Index\",\n",
    "                                                  \"Health Care Index_x\":\"2013 Health Care Index\",\n",
    "                                                  \"Cost of Living Index_x\":\"2013 Cost of Living Index\",\n",
    "                                                  \"Property Price to Income Ratio_x\":\"2013 Property Price to Income Ratio\",\n",
    "                                                  \"Traffic Commute Time Index_x\":\"2013 Traffic Commute Time Index\",\n",
    "                                                  \"Pollution Index_x\":\"2013 Pollution Index\",\n",
    "                                                  \"Climate Index_x\":\"2013 Climate Index\"\n",
    "                                                 })\n",
    "\n",
    "\n",
    "# Rename our _y columns to have year appened to each column name\n",
    "combined_QOF_df = combined_QOF_df.rename(columns={\"Rank_y\":\"2014 Rank\",\n",
    "                                                  \"Year_y\":\"Year 2014\",\n",
    "                                                  \"Quality of Life Index_y\":\"2014 Quality of Life Index\",\n",
    "                                                  \"Purchasing Power Index_y\":\"2014 Purchasing Power Index\",\n",
    "                                                  \"Safety Index_y\":\"2014 Safety Index\",\n",
    "                                                  \"Health Care Index_y\":\"2014 Health Care Index\",\n",
    "                                                  \"Cost of Living Index_y\":\"2014 Cost of Living Index\",\n",
    "                                                  \"Property Price to Income Ratio_y\":\"2014 Property Price to Income Ratio\",\n",
    "                                                  \"Traffic Commute Time Index_y\":\"2014 Traffic Commute Time Index\",\n",
    "                                                  \"Pollution Index_y\":\"2014 Pollution Index\",\n",
    "                                                  \"Climate Index_y\":\"2014 Climate Index\"\n",
    "                                                 })\n",
    "\n",
    "combined_QOF_df\n",
    "\n"
   ]
  },
  {
   "cell_type": "code",
   "execution_count": null,
   "metadata": {},
   "outputs": [],
   "source": [
    "# Merge our newly combined dataframe with the 2015 dataframe\n",
    "combined_QOF_df = pd.merge(combined_QOF_df, quality_of_life_2015_df, on=\"Country\")\n",
    "\n",
    "combined_QOF_df = combined_QOF_df.rename(columns={\"Rank\":\"2015 Rank\",\n",
    "                                                  \"Year\":\"Year 2015\",\n",
    "                                                  \"Quality of Life Index\":\"2015 Quality of Life Index\",\n",
    "                                                  \"Purchasing Power Index\":\"2015 Purchasing Power Index\",\n",
    "                                                  \"Safety Index\":\"2015 Safety Index\",\n",
    "                                                  \"Health Care Index\":\"2015 Health Care Index\",\n",
    "                                                  \"Cost of Living Index\":\"2015 Cost of Living Index\",\n",
    "                                                  \"Property Price to Income Ratio\":\"2015 Property Price to Income Ratio\",\n",
    "                                                  \"Traffic Commute Time Index\":\"2015 Traffic Commute Time Index\",\n",
    "                                                  \"Pollution Index\":\"2015 Pollution Index\",\n",
    "                                                  \"Climate Index\":\"2015 Climate Index\"\n",
    "                                                 })\n",
    "\n",
    "combined_QOF_df"
   ]
  },
  {
   "cell_type": "code",
   "execution_count": null,
   "metadata": {},
   "outputs": [],
   "source": [
    "# Merge our newly combined dataframe with the 2016 dataframe\n",
    "\n",
    "\n",
    "combined_QOF_df = pd.merge(combined_QOF_df, quality_of_life_2016_df, on=\"Country\")\n",
    "\n",
    "combined_QOF_df = combined_QOF_df.rename(columns={\"Rank\":\"2016 Rank\",\n",
    "                                                  \"Year\":\"Year 2016\",\n",
    "                                                  \"Quality of Life Index\":\"2016 Quality of Life Index\",\n",
    "                                                  \"Purchasing Power Index\":\"2016 Purchasing Power Index\",\n",
    "                                                  \"Safety Index\":\"2016 Safety Index\",\n",
    "                                                  \"Health Care Index\":\"2016 Health Care Index\",\n",
    "                                                  \"Cost of Living Index\":\"2016 Cost of Living Index\",\n",
    "                                                  \"Property Price to Income Ratio\":\"2016 Property Price to Income Ratio\",\n",
    "                                                  \"Traffic Commute Time Index\":\"2016 Traffic Commute Time Index\",\n",
    "                                                   \"Pollution Index\":\"2016 Pollution Index\",\n",
    "                                                  \"Climate Index\":\"2016 Climate Index\"\n",
    "                                                 })\n",
    "\n",
    "combined_QOF_df"
   ]
  },
  {
   "cell_type": "code",
   "execution_count": null,
   "metadata": {},
   "outputs": [],
   "source": [
    "# Rename column Entity to Country\n",
    "suicide_rates_df = suicide_rates_df.rename(columns={\"Entity\":\"Country\"})\n",
    "\n",
    "# Merge our newly combined dataframe with the 2016 dataframe\n",
    "combined_QOF_df = pd.merge(combined_QOF_df, suicide_rates_df, on=\"Country\")\n",
    "combined_QOF_df\n"
   ]
  },
  {
   "cell_type": "code",
   "execution_count": null,
   "metadata": {},
   "outputs": [],
   "source": [
    "# Onome codes ends here"
   ]
  },
  {
   "cell_type": "code",
   "execution_count": null,
   "metadata": {},
   "outputs": [],
   "source": [
    "# Stacey starts here\n",
    "#Hi it's me I finally did it!\n"
   ]
  },
  {
   "cell_type": "code",
   "execution_count": null,
   "metadata": {},
   "outputs": [],
   "source": [
    "#Stacey ends here\n"
   ]
  }
 ],
 "metadata": {
  "kernelspec": {
   "display_name": "Python 3",
   "language": "python",
   "name": "python3"
  },
  "language_info": {
   "codemirror_mode": {
    "name": "ipython",
    "version": 3
   },
   "file_extension": ".py",
   "mimetype": "text/x-python",
   "name": "python",
   "nbconvert_exporter": "python",
   "pygments_lexer": "ipython3",
   "version": "3.6.9"
  }
 },
 "nbformat": 4,
 "nbformat_minor": 4
}
