{
 "cells": [
  {
   "cell_type": "code",
   "execution_count": 8,
   "metadata": {},
   "outputs": [],
   "source": [
    "import pandas as pd\n"
   ]
  },
  {
   "cell_type": "code",
   "execution_count": 9,
   "metadata": {},
   "outputs": [],
   "source": [
    "# Mercy codes starts here\n",
    "#practice branching\n"
   ]
  },
  {
   "cell_type": "code",
   "execution_count": 10,
   "metadata": {},
   "outputs": [],
   "source": [
    "# Mercy codes ends here"
   ]
  },
  {
   "cell_type": "code",
   "execution_count": 11,
   "metadata": {},
   "outputs": [
    {
     "name": "stdout",
     "output_type": "stream",
     "text": [
      "Ash is doing this\n"
     ]
    }
   ],
   "source": [
    "# Ash codes starts here\n",
    "\n",
    "#Ash just adding some notes\n",
    "print(\"Ash is doing this\")\n",
    "#Note 1\n",
    "#Note 2\n",
    "#Note 3"
   ]
  },
  {
   "cell_type": "code",
   "execution_count": 12,
   "metadata": {},
   "outputs": [],
   "source": [
    "# Ash Codes ends here"
   ]
  },
  {
   "cell_type": "code",
   "execution_count": 13,
   "metadata": {},
   "outputs": [],
   "source": [
    "# Onome codes starts here"
   ]
  },
  {
   "cell_type": "code",
   "execution_count": 38,
   "metadata": {},
   "outputs": [
    {
     "data": {
      "text/html": [
       "<div>\n",
       "<style scoped>\n",
       "    .dataframe tbody tr th:only-of-type {\n",
       "        vertical-align: middle;\n",
       "    }\n",
       "\n",
       "    .dataframe tbody tr th {\n",
       "        vertical-align: top;\n",
       "    }\n",
       "\n",
       "    .dataframe thead th {\n",
       "        text-align: right;\n",
       "    }\n",
       "</style>\n",
       "<table border=\"1\" class=\"dataframe\">\n",
       "  <thead>\n",
       "    <tr style=\"text-align: right;\">\n",
       "      <th></th>\n",
       "      <th>Entity</th>\n",
       "      <th>Code</th>\n",
       "      <th>Year</th>\n",
       "      <th>Female (deaths per 100,000)</th>\n",
       "      <th>Male (deaths per 100,000)</th>\n",
       "      <th>Both sexes (deaths per 100,000)</th>\n",
       "    </tr>\n",
       "  </thead>\n",
       "  <tbody>\n",
       "    <tr>\n",
       "      <th>0</th>\n",
       "      <td>Afghanistan</td>\n",
       "      <td>AFG</td>\n",
       "      <td>1990</td>\n",
       "      <td>5.46</td>\n",
       "      <td>14.75</td>\n",
       "      <td>10.318504</td>\n",
       "    </tr>\n",
       "    <tr>\n",
       "      <th>1</th>\n",
       "      <td>Afghanistan</td>\n",
       "      <td>AFG</td>\n",
       "      <td>1991</td>\n",
       "      <td>5.43</td>\n",
       "      <td>14.81</td>\n",
       "      <td>10.327010</td>\n",
       "    </tr>\n",
       "    <tr>\n",
       "      <th>2</th>\n",
       "      <td>Afghanistan</td>\n",
       "      <td>AFG</td>\n",
       "      <td>1992</td>\n",
       "      <td>5.38</td>\n",
       "      <td>14.80</td>\n",
       "      <td>10.271411</td>\n",
       "    </tr>\n",
       "    <tr>\n",
       "      <th>3</th>\n",
       "      <td>Afghanistan</td>\n",
       "      <td>AFG</td>\n",
       "      <td>1993</td>\n",
       "      <td>5.41</td>\n",
       "      <td>15.02</td>\n",
       "      <td>10.376123</td>\n",
       "    </tr>\n",
       "    <tr>\n",
       "      <th>4</th>\n",
       "      <td>Afghanistan</td>\n",
       "      <td>AFG</td>\n",
       "      <td>1994</td>\n",
       "      <td>5.50</td>\n",
       "      <td>15.34</td>\n",
       "      <td>10.575915</td>\n",
       "    </tr>\n",
       "    <tr>\n",
       "      <th>...</th>\n",
       "      <td>...</td>\n",
       "      <td>...</td>\n",
       "      <td>...</td>\n",
       "      <td>...</td>\n",
       "      <td>...</td>\n",
       "      <td>...</td>\n",
       "    </tr>\n",
       "    <tr>\n",
       "      <th>6771</th>\n",
       "      <td>Zimbabwe</td>\n",
       "      <td>ZWE</td>\n",
       "      <td>2013</td>\n",
       "      <td>15.62</td>\n",
       "      <td>43.91</td>\n",
       "      <td>28.361200</td>\n",
       "    </tr>\n",
       "    <tr>\n",
       "      <th>6772</th>\n",
       "      <td>Zimbabwe</td>\n",
       "      <td>ZWE</td>\n",
       "      <td>2014</td>\n",
       "      <td>15.36</td>\n",
       "      <td>42.60</td>\n",
       "      <td>27.605547</td>\n",
       "    </tr>\n",
       "    <tr>\n",
       "      <th>6773</th>\n",
       "      <td>Zimbabwe</td>\n",
       "      <td>ZWE</td>\n",
       "      <td>2015</td>\n",
       "      <td>14.96</td>\n",
       "      <td>42.22</td>\n",
       "      <td>27.197061</td>\n",
       "    </tr>\n",
       "    <tr>\n",
       "      <th>6774</th>\n",
       "      <td>Zimbabwe</td>\n",
       "      <td>ZWE</td>\n",
       "      <td>2016</td>\n",
       "      <td>14.77</td>\n",
       "      <td>41.69</td>\n",
       "      <td>26.839591</td>\n",
       "    </tr>\n",
       "    <tr>\n",
       "      <th>6775</th>\n",
       "      <td>Zimbabwe</td>\n",
       "      <td>ZWE</td>\n",
       "      <td>2017</td>\n",
       "      <td>14.49</td>\n",
       "      <td>41.08</td>\n",
       "      <td>26.391769</td>\n",
       "    </tr>\n",
       "  </tbody>\n",
       "</table>\n",
       "<p>6776 rows × 6 columns</p>\n",
       "</div>"
      ],
      "text/plain": [
       "           Entity Code  Year  Female (deaths per 100,000)  \\\n",
       "0     Afghanistan  AFG  1990                         5.46   \n",
       "1     Afghanistan  AFG  1991                         5.43   \n",
       "2     Afghanistan  AFG  1992                         5.38   \n",
       "3     Afghanistan  AFG  1993                         5.41   \n",
       "4     Afghanistan  AFG  1994                         5.50   \n",
       "...           ...  ...   ...                          ...   \n",
       "6771     Zimbabwe  ZWE  2013                        15.62   \n",
       "6772     Zimbabwe  ZWE  2014                        15.36   \n",
       "6773     Zimbabwe  ZWE  2015                        14.96   \n",
       "6774     Zimbabwe  ZWE  2016                        14.77   \n",
       "6775     Zimbabwe  ZWE  2017                        14.49   \n",
       "\n",
       "      Male (deaths per 100,000)  Both sexes (deaths per 100,000)  \n",
       "0                         14.75                        10.318504  \n",
       "1                         14.81                        10.327010  \n",
       "2                         14.80                        10.271411  \n",
       "3                         15.02                        10.376123  \n",
       "4                         15.34                        10.575915  \n",
       "...                         ...                              ...  \n",
       "6771                      43.91                        28.361200  \n",
       "6772                      42.60                        27.605547  \n",
       "6773                      42.22                        27.197061  \n",
       "6774                      41.69                        26.839591  \n",
       "6775                      41.08                        26.391769  \n",
       "\n",
       "[6776 rows x 6 columns]"
      ]
     },
     "execution_count": 38,
     "metadata": {},
     "output_type": "execute_result"
    }
   ],
   "source": [
    "# Take in all of Quality of Life data and read it into pandas\n",
    "\n",
    "quality_of_life_2012 = \"./Resources/2012_Quality_of_life_data.csv\"\n",
    "quality_of_life_2013 = \"./Resources/2013_Quality_of_life_data.csv\"\n",
    "quality_of_life_2014 = \"./Resources/2014_Quality_of_life_data.csv\"\n",
    "quality_of_life_2015 = \"./Resources/2015_Quality_of_life_data.csv\"\n",
    "suicide_rates = \"./Resources/suicide-death-rates-by-sex.csv\"\n",
    "\n",
    "quality_of_life_2012 = pd.read_csv(quality_of_life_2012)\n",
    "quality_of_life_2013 = pd.read_csv(quality_of_life_2013)\n",
    "quality_of_life_2014 = pd.read_csv(quality_of_life_2014)\n",
    "quality_of_life_2015 = pd.read_csv(quality_of_life_2015)\n",
    "suicide_rates = pd.read_csv(suicide_rates)\n",
    "\n",
    "suicide_rates\n"
   ]
  },
  {
   "cell_type": "code",
   "execution_count": null,
   "metadata": {},
   "outputs": [],
   "source": [
    "# Merge the first two datasets on \"quality of life\" \n"
   ]
  },
  {
   "cell_type": "code",
   "execution_count": null,
   "metadata": {},
   "outputs": [],
   "source": [
    "# Onome codes ends herd"
   ]
  },
  {
   "cell_type": "code",
   "execution_count": null,
   "metadata": {},
   "outputs": [],
   "source": [
    "# Stacey starts here\n",
    "#Hi it's me I finally did it!\n"
   ]
  },
  {
   "cell_type": "code",
   "execution_count": null,
   "metadata": {},
   "outputs": [],
   "source": [
    "#Stacey ends here\n"
   ]
  }
 ],
 "metadata": {
  "kernelspec": {
   "display_name": "Python 3",
   "language": "python",
   "name": "python3"
  },
  "language_info": {
   "codemirror_mode": {
    "name": "ipython",
    "version": 3
   },
   "file_extension": ".py",
   "mimetype": "text/x-python",
   "name": "python",
   "nbconvert_exporter": "python",
   "pygments_lexer": "ipython3",
   "version": "3.6.9"
  }
 },
 "nbformat": 4,
 "nbformat_minor": 4
}
