{
 "cells": [
  {
   "cell_type": "code",
   "execution_count": null,
   "metadata": {},
   "outputs": [],
   "source": [
    "# Mercy codes starts here\n",
    "#import dependencies\n",
    "import pandas as pd\n",
    "import matplotlib.pyplot as plt\n",
    "import scipy.stats as sts\n",
    "import numpy as np\n",
    "import glob\n",
    "import matplotlib.patches as mpatches\n",
    "import warnings\n",
    "warnings.simplefilter(action='ignore', category=FutureWarning)\n",
    "%matplotlib inline\n"
   ]
  },
  {
   "cell_type": "code",
   "execution_count": null,
   "metadata": {},
   "outputs": [],
   "source": [
    "#Reading the files, combining data\n",
    "path = r'./Resources/' # use your path\n",
    "\n",
    "all_files = glob.glob(path + \"/*_Quality_*.csv\")\n",
    "\n",
    "all_files\n",
    "li = []\n",
    "\n",
    "for filename in all_files:\n",
    "\n",
    "     df = pd.read_csv(filename, index_col=None, header=0)\n",
    "\n",
    "     li.append(df)\n",
    "\n",
    "QOL_df = pd.concat(li, axis=0, ignore_index=True)\n",
    "\n",
    "suicide_rates_df = pd.read_csv(path + \"suicide-death-rates-by-sex.csv\")\n",
    "\n",
    "suicide_rates_df = suicide_rates_df.rename(columns={\"Entity\":\"Country\"})\n",
    "\n",
    "combined_QOF_df = pd.merge(suicide_rates_df, QOL_df, how='inner', on=['Country', 'Year'])\n",
    "\n",
    "combined_QOF_df.head()"
   ]
  },
  {
   "cell_type": "code",
   "execution_count": 3,
   "metadata": {
    "scrolled": true
   },
   "outputs": [
    {
     "data": {
      "text/html": [
       "<div>\n",
       "<style scoped>\n",
       "    .dataframe tbody tr th:only-of-type {\n",
       "        vertical-align: middle;\n",
       "    }\n",
       "\n",
       "    .dataframe tbody tr th {\n",
       "        vertical-align: top;\n",
       "    }\n",
       "\n",
       "    .dataframe thead th {\n",
       "        text-align: right;\n",
       "    }\n",
       "</style>\n",
       "<table border=\"1\" class=\"dataframe\">\n",
       "  <thead>\n",
       "    <tr style=\"text-align: right;\">\n",
       "      <th></th>\n",
       "      <th>Both sexes (deaths per 100,000)</th>\n",
       "      <th>Group1</th>\n",
       "      <th>Group2</th>\n",
       "      <th>Group3</th>\n",
       "      <th>QOF_rank</th>\n",
       "      <th>Quality of Life Index</th>\n",
       "    </tr>\n",
       "    <tr>\n",
       "      <th>Year</th>\n",
       "      <th></th>\n",
       "      <th></th>\n",
       "      <th></th>\n",
       "      <th></th>\n",
       "      <th></th>\n",
       "      <th></th>\n",
       "    </tr>\n",
       "  </thead>\n",
       "  <tbody>\n",
       "    <tr>\n",
       "      <th>2013</th>\n",
       "      <td>10.786832</td>\n",
       "      <td>1</td>\n",
       "      <td>0</td>\n",
       "      <td>0</td>\n",
       "      <td>11.0</td>\n",
       "      <td>167.21</td>\n",
       "    </tr>\n",
       "    <tr>\n",
       "      <th>2013</th>\n",
       "      <td>11.143088</td>\n",
       "      <td>0</td>\n",
       "      <td>2</td>\n",
       "      <td>0</td>\n",
       "      <td>32.0</td>\n",
       "      <td>99.34</td>\n",
       "    </tr>\n",
       "    <tr>\n",
       "      <th>2013</th>\n",
       "      <td>8.123986</td>\n",
       "      <td>0</td>\n",
       "      <td>0</td>\n",
       "      <td>3</td>\n",
       "      <td>53.0</td>\n",
       "      <td>35.74</td>\n",
       "    </tr>\n",
       "    <tr>\n",
       "      <th>2014</th>\n",
       "      <td>10.912077</td>\n",
       "      <td>1</td>\n",
       "      <td>0</td>\n",
       "      <td>0</td>\n",
       "      <td>11.0</td>\n",
       "      <td>168.56</td>\n",
       "    </tr>\n",
       "    <tr>\n",
       "      <th>2014</th>\n",
       "      <td>10.820289</td>\n",
       "      <td>0</td>\n",
       "      <td>2</td>\n",
       "      <td>0</td>\n",
       "      <td>32.0</td>\n",
       "      <td>108.70</td>\n",
       "    </tr>\n",
       "  </tbody>\n",
       "</table>\n",
       "</div>"
      ],
      "text/plain": [
       "      Both sexes (deaths per 100,000) Group1 Group2 Group3  QOF_rank  \\\n",
       "Year                                                                   \n",
       "2013                        10.786832      1      0      0      11.0   \n",
       "2013                        11.143088      0      2      0      32.0   \n",
       "2013                         8.123986      0      0      3      53.0   \n",
       "2014                        10.912077      1      0      0      11.0   \n",
       "2014                        10.820289      0      2      0      32.0   \n",
       "\n",
       "      Quality of Life Index  \n",
       "Year                         \n",
       "2013                 167.21  \n",
       "2013                  99.34  \n",
       "2013                  35.74  \n",
       "2014                 168.56  \n",
       "2014                 108.70  "
      ]
     },
     "execution_count": 3,
     "metadata": {},
     "output_type": "execute_result"
    }
   ],
   "source": [
    "#QUALITY OF LIFE RANKING\n",
    "#Rank 2013 by quality of life\n",
    "QOL_rank_2013_df=combined_QOF_df[combined_QOF_df['Year']==2013][['Country','Year','Quality of Life Index','Both sexes (deaths per 100,000)']]\n",
    "QOL_rank_2013_df[['QOF_rank']]=QOL_rank_2013_df[['Quality of Life Index']].rank(ascending=False)\n",
    "QOL_rank_2013_1_df=QOL_rank_2013_df.loc[QOL_rank_2013_df['QOF_rank']<=21].sort_values('QOF_rank')\n",
    "QOL_rank_2013_2_df=QOL_rank_2013_df.loc[(QOL_rank_2013_df['QOF_rank']>=22) & (QOL_rank_2013_df['QOF_rank']<=42)].sort_values('QOF_rank')\n",
    "QOL_rank_2013_3_df=QOL_rank_2013_df.loc[(QOL_rank_2013_df['QOF_rank']>=43) & (QOL_rank_2013_df['QOF_rank']<=63)].sort_values('QOF_rank')# #2013 QOL\n",
    "\n",
    "Median_Suicide_rate_2013_1=QOL_rank_2013_1_df.groupby('Year').median()\n",
    "Median_Suicide_rate_2013_1['Group1']=['1']\n",
    "Median_Suicide_rate_2013_2=QOL_rank_2013_2_df.groupby('Year').median()\n",
    "Median_Suicide_rate_2013_2['Group2']=['2']\n",
    "Median_Suicide_rate_2013_3=QOL_rank_2013_3_df.groupby('Year').median()\n",
    "Median_Suicide_rate_2013_3['Group3']=['3']\n",
    "Median_Suicide_rate_2013_3\n",
    "\n",
    "\n",
    "# #Rank 2014 by quality of life\n",
    "QOL_rank_2014_df=combined_QOF_df.loc[combined_QOF_df['Year']==2014][['Country','Year','Quality of Life Index','Both sexes (deaths per 100,000)']]\n",
    "QOL_rank_2014_df[['QOF_rank']]=QOL_rank_2014_df[['Quality of Life Index']].rank(ascending=False)\n",
    "QOL_rank_2014_1_df=QOL_rank_2014_df.loc[QOL_rank_2014_df['QOF_rank']<=21].sort_values('QOF_rank')\n",
    "QOL_rank_2014_2_df=QOL_rank_2014_df.loc[(QOL_rank_2014_df['QOF_rank']>=22) & (QOL_rank_2014_df['QOF_rank']<=42)].sort_values('QOF_rank')\n",
    "QOL_rank_2014_3_df=QOL_rank_2014_df.loc[(QOL_rank_2014_df['QOF_rank']>=43) & (QOL_rank_2014_df['QOF_rank']<=63)].sort_values('QOF_rank')\n",
    "\n",
    "Median_Suicide_rate_2014_1=QOL_rank_2014_1_df.groupby('Year').median()\n",
    "Median_Suicide_rate_2014_1['Group1']=['1']\n",
    "Median_Suicide_rate_2014_2=QOL_rank_2014_2_df.groupby('Year').median()\n",
    "Median_Suicide_rate_2014_2['Group2']=['2']\n",
    "Median_Suicide_rate_2014_3=QOL_rank_2014_3_df.groupby('Year').median()\n",
    "Median_Suicide_rate_2014_3['Group3']=['3']\n",
    "Median_Suicide_rate_2014_3\n",
    "\n",
    "# # #Rank 2015 by quality of life\n",
    "QOL_rank_2015_df=combined_QOF_df.loc[combined_QOF_df['Year']==2015][['Country','Year','Quality of Life Index','Both sexes (deaths per 100,000)']]\n",
    "QOL_rank_2015_df[['QOF_rank']]=QOL_rank_2015_df[['Quality of Life Index']].rank(ascending=False)\n",
    "QOL_rank_2015_1_df=QOL_rank_2015_df.loc[QOL_rank_2015_df['QOF_rank']<=21].sort_values('QOF_rank')\n",
    "QOL_rank_2015_2_df=QOL_rank_2015_df.loc[(QOL_rank_2015_df['QOF_rank']>=22) & (QOL_rank_2015_df['QOF_rank']<=42)].sort_values('QOF_rank')\n",
    "QOL_rank_2015_3_df=QOL_rank_2015_df.loc[(QOL_rank_2015_df['QOF_rank']>=43) & (QOL_rank_2015_df['QOF_rank']<=63)].sort_values('QOF_rank')\n",
    "\n",
    "Median_Suicide_rate_2015_1=QOL_rank_2015_1_df.groupby('Year').median()\n",
    "Median_Suicide_rate_2015_1['Group1']=['1']\n",
    "Median_Suicide_rate_2015_2=QOL_rank_2015_2_df.groupby('Year').median()\n",
    "Median_Suicide_rate_2015_2['Group2']=['2']\n",
    "Median_Suicide_rate_2015_3=QOL_rank_2015_3_df.groupby('Year').median()\n",
    "Median_Suicide_rate_2015_3['Group3']=['3']\n",
    "Median_Suicide_rate_2015_3\n",
    "\n",
    "\n",
    "# # #Rank 2016 by quality of life\n",
    "QOL_rank_2016_df=combined_QOF_df.loc[combined_QOF_df['Year']==2016][['Country','Year','Quality of Life Index','Both sexes (deaths per 100,000)']]\n",
    "QOL_rank_2016_df[['QOF_rank']]=QOL_rank_2016_df[['Quality of Life Index']].rank(ascending=False)\n",
    "QOL_rank_2016_1_df=QOL_rank_2016_df.loc[QOL_rank_2016_df['QOF_rank']<=21].sort_values('QOF_rank')\n",
    "QOL_rank_2016_2_df=QOL_rank_2016_df.loc[(QOL_rank_2016_df['QOF_rank']>=22) & (QOL_rank_2016_df['QOF_rank']<=42)].sort_values('QOF_rank')\n",
    "QOL_rank_2016_3_df=QOL_rank_2016_df.loc[(QOL_rank_2016_df['QOF_rank']>=43) & (QOL_rank_2016_df['QOF_rank']<=63)].sort_values('QOF_rank')\n",
    "\n",
    "Median_Suicide_rate_2016_1=QOL_rank_2016_1_df.groupby('Year').median()\n",
    "Median_Suicide_rate_2016_1['Group1']=['1']\n",
    "Median_Suicide_rate_2016_2=QOL_rank_2016_2_df.groupby('Year').median()\n",
    "Median_Suicide_rate_2016_2['Group2']=['2']\n",
    "Median_Suicide_rate_2016_3=QOL_rank_2016_3_df.groupby('Year').median()\n",
    "Median_Suicide_rate_2016_3['Group3']=['3']\n",
    "Median_Suicide_rate_2016_3\n",
    "\n",
    "QOF_combined_df=pd.concat((Median_Suicide_rate_2013_1,Median_Suicide_rate_2013_2,Median_Suicide_rate_2013_3,\n",
    "                   Median_Suicide_rate_2014_1,Median_Suicide_rate_2014_2,Median_Suicide_rate_2014_3,\n",
    "                  Median_Suicide_rate_2015_1,Median_Suicide_rate_2015_2,Median_Suicide_rate_2015_3,\n",
    "                  Median_Suicide_rate_2016_1,Median_Suicide_rate_2016_2,Median_Suicide_rate_2016_3), axis=0)\n",
    "QOF_combined_df=QOF_combined_df.fillna(0)\n",
    "QOF_combined_df.head()\n",
    "\n",
    "\n"
   ]
  },
  {
   "cell_type": "code",
   "execution_count": 4,
   "metadata": {
    "scrolled": true
   },
   "outputs": [
    {
     "data": {
      "image/png": "[encoded data removed]",
      "text/plain": [
       "<Figure size 432x288 with 1 Axes>"
      ]
     },
     "metadata": {},
     "output_type": "display_data"
    },
    {
     "data": {
      "text/plain": [
       "<Figure size 576x288 with 0 Axes>"
      ]
     },
     "metadata": {},
     "output_type": "display_data"
    }
   ],
   "source": [
    "#plot the graph\n",
    "years=[2013,2014,2015,2016]\n",
    "x_axis = np.arange(len(years))\n",
    "bar_width=0.35\n",
    "plt.style.use('fivethirtyeight')\n",
    "fig, ax = plt.subplots()\n",
    "plt.figure(figsize=(8,4))\n",
    "\n",
    "width = 0.25         # the width of the bars\n",
    "p1 = ax.bar(x_axis, QOF_combined_df[QOF_combined_df['Group1']=='1']['Both sexes (deaths per 100,000)'],color='b', width=width)\n",
    "p2 = ax.bar(x_axis + width, QOF_combined_df[QOF_combined_df['Group2']=='2']['Both sexes (deaths per 100,000)'],color='y', width=width)\n",
    "p3 = ax.bar(x_axis + width + width , QOF_combined_df[QOF_combined_df['Group3']=='3']['Both sexes (deaths per 100,000)'], color='r', width=width)\n",
    "\n",
    "ax.set_title('Suicide Deaths and Quality of Life Index')\n",
    "ax.set_xticks(x_axis+ width / 2)\n",
    "ax.set_xticklabels(('2013', '2014', '2015', '2016'))\n",
    "ax.set_xlabel('Year')\n",
    "ax.set_ylabel('Median Suicide deaths per 100,000')\n",
    "\n",
    "\n",
    "ax.legend((p1[0], p2[0],p3[0]), ('High_QOL_Indx', 'Medium_QOL_Indx','Low_QOL_Indx'),fontsize = 10,  bbox_to_anchor=(1.0, 0.5))\n",
    "\n",
    "\n",
    "\n",
    "plt.show()\n"
   ]
  },
  {
   "cell_type": "code",
   "execution_count": 5,
   "metadata": {},
   "outputs": [],
   "source": [
    "# Mercy codes ends here"
   ]
  },
  {
   "cell_type": "code",
   "execution_count": 6,
   "metadata": {},
   "outputs": [
    {
     "data": {
      "text/plain": [
       "F_onewayResult(statistic=12.733989851480192, pvalue=0.0023753087254334932)"
      ]
     },
     "execution_count": 6,
     "metadata": {},
     "output_type": "execute_result"
    }
   ],
   "source": [
    "# Prep Data for Anova test\n",
    "QOF_combined_df_Grp1 = QOF_combined_df[QOF_combined_df['Group1']=='1'][['Both sexes (deaths per 100,000)']]\n",
    "QOF_combined_df_Grp2 = QOF_combined_df[QOF_combined_df['Group2']=='2'][['Both sexes (deaths per 100,000)']]\n",
    "QOF_combined_df_Grp3 = QOF_combined_df[QOF_combined_df['Group3']=='3'][['Both sexes (deaths per 100,000)']]\n",
    "\n",
    "#determinte the P value\n",
    "sts.f_oneway(QOF_combined_df_Grp1[\"Both sexes (deaths per 100,000)\"], QOF_combined_df_Grp2[\"Both sexes (deaths per 100,000)\"], QOF_combined_df_Grp3[\"Both sexes (deaths per 100,000)\"])\n",
    "\n"
   ]
  },
  {
   "cell_type": "code",
   "execution_count": null,
   "metadata": {},
   "outputs": [],
   "source": [
    "#Conclusion\n",
    "# Do countries with better quality of life have lower suicide rates?\n",
    "#The null hypothesis is that the quality of life has no effect on suicide rates.\n",
    "#The P- value is 0.002 based on ANOVA test we would reject the null hypothesis.\n",
    "#What this means is that quality of life may have an impact on suicide rates.\n"
   ]
  },
  {
   "cell_type": "code",
   "execution_count": 7,
   "metadata": {},
   "outputs": [
    {
     "name": "stdout",
     "output_type": "stream",
     "text": [
      "Quality of life Group 1 rank mean is 10.618217459630268\n",
      "Quality of life Group 2 rank mean is 10.630395909559128\n",
      "Quality of life Group 3 rank mean is 7.901419858038075\n"
     ]
    }
   ],
   "source": [
    "# Compare the group means\n",
    "QOF_combined_df_Grp1_mean=QOF_combined_df_Grp1['Both sexes (deaths per 100,000)'].mean()\n",
    "QOF_combined_df_Grp2_mean=QOF_combined_df_Grp2['Both sexes (deaths per 100,000)'].mean()\n",
    "QOF_combined_df_Grp3_mean=QOF_combined_df_Grp3['Both sexes (deaths per 100,000)'].mean()\n",
    "print(f\"Quality of life Group 1 rank mean is {QOF_combined_df_Grp1_mean}\")\n",
    "print(f\"Quality of life Group 2 rank mean is {QOF_combined_df_Grp2_mean}\")\n",
    "print(f\"Quality of life Group 3 rank mean is {QOF_combined_df_Grp3_mean}\")\n",
    "\n",
    "# The mean of Group3 is statistically different from the other groups.\n",
    "# if we were to continue on this project we would run further analysis on Group3\n"
   ]
  },
  {
   "cell_type": "code",
   "execution_count": 8,
   "metadata": {},
   "outputs": [
    {
     "data": {
      "text/html": [
       "<div>\n",
       "<style scoped>\n",
       "    .dataframe tbody tr th:only-of-type {\n",
       "        vertical-align: middle;\n",
       "    }\n",
       "\n",
       "    .dataframe tbody tr th {\n",
       "        vertical-align: top;\n",
       "    }\n",
       "\n",
       "    .dataframe thead th {\n",
       "        text-align: right;\n",
       "    }\n",
       "</style>\n",
       "<table border=\"1\" class=\"dataframe\">\n",
       "  <thead>\n",
       "    <tr style=\"text-align: right;\">\n",
       "      <th></th>\n",
       "      <th>Both sexes (deaths per 100,000)</th>\n",
       "      <th>Group1</th>\n",
       "      <th>Group2</th>\n",
       "      <th>Group3</th>\n",
       "      <th>Pollution Index</th>\n",
       "      <th>QOF_rank</th>\n",
       "    </tr>\n",
       "    <tr>\n",
       "      <th>Year</th>\n",
       "      <th></th>\n",
       "      <th></th>\n",
       "      <th></th>\n",
       "      <th></th>\n",
       "      <th></th>\n",
       "      <th></th>\n",
       "    </tr>\n",
       "  </thead>\n",
       "  <tbody>\n",
       "    <tr>\n",
       "      <th>2013</th>\n",
       "      <td>7.216221</td>\n",
       "      <td>1</td>\n",
       "      <td>0</td>\n",
       "      <td>0</td>\n",
       "      <td>80.55</td>\n",
       "      <td>11.0</td>\n",
       "    </tr>\n",
       "    <tr>\n",
       "      <th>2013</th>\n",
       "      <td>8.123986</td>\n",
       "      <td>0</td>\n",
       "      <td>2</td>\n",
       "      <td>0</td>\n",
       "      <td>56.50</td>\n",
       "      <td>32.0</td>\n",
       "    </tr>\n",
       "    <tr>\n",
       "      <th>2013</th>\n",
       "      <td>10.820015</td>\n",
       "      <td>0</td>\n",
       "      <td>0</td>\n",
       "      <td>3</td>\n",
       "      <td>28.81</td>\n",
       "      <td>53.0</td>\n",
       "    </tr>\n",
       "    <tr>\n",
       "      <th>2014</th>\n",
       "      <td>7.540029</td>\n",
       "      <td>1</td>\n",
       "      <td>0</td>\n",
       "      <td>0</td>\n",
       "      <td>74.36</td>\n",
       "      <td>11.0</td>\n",
       "    </tr>\n",
       "    <tr>\n",
       "      <th>2014</th>\n",
       "      <td>9.271611</td>\n",
       "      <td>0</td>\n",
       "      <td>2</td>\n",
       "      <td>0</td>\n",
       "      <td>56.16</td>\n",
       "      <td>32.0</td>\n",
       "    </tr>\n",
       "  </tbody>\n",
       "</table>\n",
       "</div>"
      ],
      "text/plain": [
       "      Both sexes (deaths per 100,000) Group1 Group2 Group3  Pollution Index  \\\n",
       "Year                                                                          \n",
       "2013                         7.216221      1      0      0            80.55   \n",
       "2013                         8.123986      0      2      0            56.50   \n",
       "2013                        10.820015      0      0      3            28.81   \n",
       "2014                         7.540029      1      0      0            74.36   \n",
       "2014                         9.271611      0      2      0            56.16   \n",
       "\n",
       "      QOF_rank  \n",
       "Year            \n",
       "2013      11.0  \n",
       "2013      32.0  \n",
       "2013      53.0  \n",
       "2014      11.0  \n",
       "2014      32.0  "
      ]
     },
     "execution_count": 8,
     "metadata": {},
     "output_type": "execute_result"
    }
   ],
   "source": [
    "### Ash's Code Start here\n",
    "#pollution Ranking\n",
    "#Rank 2013 by quality of life\n",
    "POL_rank_2013_df=combined_QOF_df[combined_QOF_df['Year']==2013][['Country','Year','Pollution Index','Both sexes (deaths per 100,000)']]\n",
    "POL_rank_2013_df[['QOF_rank']]=POL_rank_2013_df[['Pollution Index']].rank(ascending=False)\n",
    "POL_rank_2013_1_df=POL_rank_2013_df.loc[POL_rank_2013_df['QOF_rank']<=21].sort_values('QOF_rank')\n",
    "POL_rank_2013_2_df=POL_rank_2013_df.loc[(POL_rank_2013_df['QOF_rank']>=22) & (POL_rank_2013_df['QOF_rank']<=42)].sort_values('QOF_rank')\n",
    "POL_rank_2013_3_df=POL_rank_2013_df.loc[(POL_rank_2013_df['QOF_rank']>=43) & (POL_rank_2013_df['QOF_rank']<=63)].sort_values('QOF_rank')# #2013 POL\n",
    "\n",
    "POL_Median_Suicide_rate_2013_1=POL_rank_2013_1_df.groupby('Year').median()\n",
    "POL_Median_Suicide_rate_2013_1['Group1']=['1']\n",
    "POL_Median_Suicide_rate_2013_2=POL_rank_2013_2_df.groupby('Year').median()\n",
    "POL_Median_Suicide_rate_2013_2['Group2']=['2']\n",
    "POL_Median_Suicide_rate_2013_3=POL_rank_2013_3_df.groupby('Year').median()\n",
    "POL_Median_Suicide_rate_2013_3['Group3']=['3']\n",
    "POL_Median_Suicide_rate_2013_3\n",
    "\n",
    "\n",
    "# #Rank 2014 by quality of life\n",
    "POL_rank_2014_df=combined_QOF_df.loc[combined_QOF_df['Year']==2014][['Country','Year','Pollution Index','Both sexes (deaths per 100,000)']]\n",
    "POL_rank_2014_df[['QOF_rank']]=POL_rank_2014_df[['Pollution Index']].rank(ascending=False)\n",
    "POL_rank_2014_1_df=POL_rank_2014_df.loc[POL_rank_2014_df['QOF_rank']<=21].sort_values('QOF_rank')\n",
    "POL_rank_2014_2_df=POL_rank_2014_df.loc[(POL_rank_2014_df['QOF_rank']>=22) & (POL_rank_2014_df['QOF_rank']<=42)].sort_values('QOF_rank')\n",
    "POL_rank_2014_3_df=POL_rank_2014_df.loc[(POL_rank_2014_df['QOF_rank']>=43) & (POL_rank_2014_df['QOF_rank']<=63)].sort_values('QOF_rank')\n",
    "\n",
    "POL_Median_Suicide_rate_2014_1=POL_rank_2014_1_df.groupby('Year').median()\n",
    "POL_Median_Suicide_rate_2014_1['Group1']=['1']\n",
    "POL_Median_Suicide_rate_2014_2=POL_rank_2014_2_df.groupby('Year').median()\n",
    "POL_Median_Suicide_rate_2014_2['Group2']=['2']\n",
    "POL_Median_Suicide_rate_2014_3=POL_rank_2014_3_df.groupby('Year').median()\n",
    "POL_Median_Suicide_rate_2014_3['Group3']=['3']\n",
    "POL_Median_Suicide_rate_2014_3\n",
    "\n",
    "# # #Rank 2015 by quality of life\n",
    "POL_rank_2015_df=combined_QOF_df.loc[combined_QOF_df['Year']==2015][['Country','Year','Pollution Index','Both sexes (deaths per 100,000)']]\n",
    "POL_rank_2015_df[['QOF_rank']]=POL_rank_2015_df[['Pollution Index']].rank(ascending=False)\n",
    "POL_rank_2015_1_df=POL_rank_2015_df.loc[POL_rank_2015_df['QOF_rank']<=21].sort_values('QOF_rank')\n",
    "POL_rank_2015_2_df=POL_rank_2015_df.loc[(POL_rank_2015_df['QOF_rank']>=22) & (POL_rank_2015_df['QOF_rank']<=42)].sort_values('QOF_rank')\n",
    "POL_rank_2015_3_df=POL_rank_2015_df.loc[(POL_rank_2015_df['QOF_rank']>=43) & (POL_rank_2015_df['QOF_rank']<=63)].sort_values('QOF_rank')\n",
    "\n",
    "POL_Median_Suicide_rate_2015_1=POL_rank_2015_1_df.groupby('Year').median()\n",
    "POL_Median_Suicide_rate_2015_1['Group1']=['1']\n",
    "POL_Median_Suicide_rate_2015_2=POL_rank_2015_2_df.groupby('Year').median()\n",
    "POL_Median_Suicide_rate_2015_2['Group2']=['2']\n",
    "POL_Median_Suicide_rate_2015_3=POL_rank_2015_3_df.groupby('Year').median()\n",
    "POL_Median_Suicide_rate_2015_3['Group3']=['3']\n",
    "POL_Median_Suicide_rate_2015_3\n",
    "\n",
    "\n",
    "# # #Rank 2016 by quality of life\n",
    "POL_rank_2016_df=combined_QOF_df.loc[combined_QOF_df['Year']==2016][['Country','Year','Pollution Index','Both sexes (deaths per 100,000)']]\n",
    "POL_rank_2016_df[['QOF_rank']]=POL_rank_2016_df[['Pollution Index']].rank(ascending=False)\n",
    "POL_rank_2016_1_df=POL_rank_2016_df.loc[POL_rank_2016_df['QOF_rank']<=21].sort_values('QOF_rank')\n",
    "POL_rank_2016_2_df=POL_rank_2016_df.loc[(POL_rank_2016_df['QOF_rank']>=22) & (POL_rank_2016_df['QOF_rank']<=42)].sort_values('QOF_rank')\n",
    "POL_rank_2016_3_df=POL_rank_2016_df.loc[(POL_rank_2016_df['QOF_rank']>=43) & (POL_rank_2016_df['QOF_rank']<=63)].sort_values('QOF_rank')\n",
    "\n",
    "POL_Median_Suicide_rate_2016_1=POL_rank_2016_1_df.groupby('Year').median()\n",
    "POL_Median_Suicide_rate_2016_1['Group1']=['1']\n",
    "POL_Median_Suicide_rate_2016_2=POL_rank_2016_2_df.groupby('Year').median()\n",
    "POL_Median_Suicide_rate_2016_2['Group2']=['2']\n",
    "POL_Median_Suicide_rate_2016_3=POL_rank_2016_3_df.groupby('Year').median()\n",
    "POL_Median_Suicide_rate_2016_3['Group3']=['3']\n",
    "POL_Median_Suicide_rate_2016_3\n",
    "\n",
    "POL_combined_df=pd.concat((POL_Median_Suicide_rate_2013_1,POL_Median_Suicide_rate_2013_2,POL_Median_Suicide_rate_2013_3,\n",
    "                   POL_Median_Suicide_rate_2014_1,POL_Median_Suicide_rate_2014_2,POL_Median_Suicide_rate_2014_3,\n",
    "                  POL_Median_Suicide_rate_2015_1,POL_Median_Suicide_rate_2015_2,POL_Median_Suicide_rate_2015_3,\n",
    "                  POL_Median_Suicide_rate_2016_1,POL_Median_Suicide_rate_2016_2,POL_Median_Suicide_rate_2016_3), axis=0)\n",
    "POL_combined_df=POL_combined_df.fillna(0)\n",
    "POL_combined_df.head()\n"
   ]
  },
  {
   "cell_type": "code",
   "execution_count": 9,
   "metadata": {},
   "outputs": [
    {
     "data": {
      "image/png": "[encoded data removed]",
      "text/plain": [
       "<Figure size 432x288 with 1 Axes>"
      ]
     },
     "metadata": {},
     "output_type": "display_data"
    },
    {
     "data": {
      "text/plain": [
       "<Figure size 576x288 with 0 Axes>"
      ]
     },
     "metadata": {},
     "output_type": "display_data"
    }
   ],
   "source": [
    "#plot the graph\n",
    "years=[2013,2014,2015,2016]\n",
    "x_axis = np.arange(len(years))\n",
    "bar_width=0.35\n",
    "\n",
    "fig, ax = plt.subplots()\n",
    "plt.figure(figsize=(8,4))\n",
    "plt.style.use('fivethirtyeight')\n",
    "\n",
    "width = 0.25         # the width of the bars\n",
    "p1 = ax.bar(x_axis, POL_combined_df[POL_combined_df['Group1']=='1']['Both sexes (deaths per 100,000)'],color='b', width=width)\n",
    "p2 = ax.bar(x_axis + width, POL_combined_df[POL_combined_df['Group2']=='2']['Both sexes (deaths per 100,000)'],color='y', width=width)\n",
    "p3 = ax.bar(x_axis + width + width , POL_combined_df[POL_combined_df['Group3']=='3']['Both sexes (deaths per 100,000)'], color='r', width=width)\n",
    "\n",
    "ax.set_title('Suicide Deaths and Pollution Index')\n",
    "ax.set_xticks(x_axis+ width / 2)\n",
    "ax.set_xticklabels(('2013', '2014', '2015', '2016'))\n",
    "ax.set_xlabel('Year')\n",
    "ax.set_ylabel('Median Suicide deaths per 100,000')\n",
    "ax.legend((p1[0], p2[0],p3[0]), ('High_Poll_Indx', 'Medium_Poll_Indx','Low_Poll_Indx'),fontsize = 10,  bbox_to_anchor=(1.0, 0.5))\n",
    "plt.show()"
   ]
  },
  {
   "cell_type": "code",
   "execution_count": 11,
   "metadata": {},
   "outputs": [
    {
     "data": {
      "text/plain": [
       "F_onewayResult(statistic=29.847385716043277, pvalue=0.00010664358094891368)"
      ]
     },
     "execution_count": 11,
     "metadata": {},
     "output_type": "execute_result"
    }
   ],
   "source": [
    "#Ash ends here\n",
    "#ASh Stats Start\n",
    "# Prep Data for Anova test\n",
    "POL_combined_df_Grp1 = POL_combined_df[POL_combined_df['Group1']=='1'][['Both sexes (deaths per 100,000)']]\n",
    "POL_combined_df_Grp2 = POL_combined_df[POL_combined_df['Group2']=='2'][['Both sexes (deaths per 100,000)']]\n",
    "POL_combined_df_Grp3 = POL_combined_df[POL_combined_df['Group3']=='3'][['Both sexes (deaths per 100,000)']]\n",
    "#determinte the P value\n",
    "sts.f_oneway(POL_combined_df_Grp1[\"Both sexes (deaths per 100,000)\"], POL_combined_df_Grp2[\"Both sexes (deaths per 100,000)\"], POL_combined_df_Grp3[\"Both sexes (deaths per 100,000)\"])\n",
    "#ASh Stats End"
   ]
  },
  {
   "cell_type": "code",
   "execution_count": 12,
   "metadata": {},
   "outputs": [],
   "source": [
    "# Do countries with a higher pollution rate have a lower suicide rate?\n",
    "#The null hypothesis is that pollution rates would have no effect on suicide rates. \n",
    "#The P- Value is 0.0001 so we would reject the null hypothesis.\n",
    "#What this means is that pollution may have an impact on suicide rates.\n"
   ]
  },
  {
   "cell_type": "code",
   "execution_count": 17,
   "metadata": {},
   "outputs": [
    {
     "name": "stdout",
     "output_type": "stream",
     "text": [
      "Pollution Index Group 1 rank mean is 6.726440504037896\n",
      "Pollution Index Group 2 rank mean is 9.222398310328977\n",
      "Pollution Index Group 3 rank mean is 10.860866192318749\n"
     ]
    }
   ],
   "source": [
    "# Compare the group means\n",
    "POL_combined_df_Grp1_mean=POL_combined_df_Grp1['Both sexes (deaths per 100,000)'].mean()\n",
    "POL_combined_df_Grp2_mean=POL_combined_df_Grp2['Both sexes (deaths per 100,000)'].mean()\n",
    "POL_combined_df_Grp3_mean=POL_combined_df_Grp3['Both sexes (deaths per 100,000)'].mean()\n",
    "print(f\"Pollution Index Group 1 rank mean is {POL_combined_df_Grp1_mean}\")\n",
    "print(f\"Pollution Index Group 2 rank mean is {POL_combined_df_Grp2_mean}\")\n",
    "print(f\"Pollution Index Group 3 rank mean is {POL_combined_df_Grp3_mean}\")\n",
    "\n",
    "# The mean of Group1 is statistically different from the other groups.\n",
    "# if we were to continue on this project we would run further analysis on Group1"
   ]
  },
  {
   "cell_type": "code",
   "execution_count": null,
   "metadata": {},
   "outputs": [],
   "source": [
    "# Onome codes starts here"
   ]
  },
  {
   "cell_type": "code",
   "execution_count": 18,
   "metadata": {},
   "outputs": [
    {
     "name": "stderr",
     "output_type": "stream",
     "text": [
      "C:\\Users\\Mercy\\Anaconda3\\envs\\PythonData\\lib\\site-packages\\pandas\\core\\frame.py:3509: SettingWithCopyWarning: \n",
      "A value is trying to be set on a copy of a slice from a DataFrame.\n",
      "Try using .loc[row_indexer,col_indexer] = value instead\n",
      "\n",
      "See the caveats in the documentation: http://pandas.pydata.org/pandas-docs/stable/user_guide/indexing.html#returning-a-view-versus-a-copy\n",
      "  self[k1] = value[k2]\n"
     ]
    },
    {
     "data": {
      "text/html": [
       "<div>\n",
       "<style scoped>\n",
       "    .dataframe tbody tr th:only-of-type {\n",
       "        vertical-align: middle;\n",
       "    }\n",
       "\n",
       "    .dataframe tbody tr th {\n",
       "        vertical-align: top;\n",
       "    }\n",
       "\n",
       "    .dataframe thead th {\n",
       "        text-align: right;\n",
       "    }\n",
       "</style>\n",
       "<table border=\"1\" class=\"dataframe\">\n",
       "  <thead>\n",
       "    <tr style=\"text-align: right;\">\n",
       "      <th></th>\n",
       "      <th>Both sexes (deaths per 100,000)</th>\n",
       "      <th>Cost of Living Index</th>\n",
       "      <th>Cost_of_Living_rank</th>\n",
       "      <th>Group1</th>\n",
       "      <th>Group2</th>\n",
       "      <th>Group3</th>\n",
       "    </tr>\n",
       "    <tr>\n",
       "      <th>Year</th>\n",
       "      <th></th>\n",
       "      <th></th>\n",
       "      <th></th>\n",
       "      <th></th>\n",
       "      <th></th>\n",
       "      <th></th>\n",
       "    </tr>\n",
       "  </thead>\n",
       "  <tbody>\n",
       "    <tr>\n",
       "      <th>2013</th>\n",
       "      <td>10.106150</td>\n",
       "      <td>103.01</td>\n",
       "      <td>11.0</td>\n",
       "      <td>1</td>\n",
       "      <td>0</td>\n",
       "      <td>0</td>\n",
       "    </tr>\n",
       "    <tr>\n",
       "      <th>2013</th>\n",
       "      <td>10.363239</td>\n",
       "      <td>71.28</td>\n",
       "      <td>32.0</td>\n",
       "      <td>0</td>\n",
       "      <td>2</td>\n",
       "      <td>0</td>\n",
       "    </tr>\n",
       "    <tr>\n",
       "      <th>2013</th>\n",
       "      <td>8.961947</td>\n",
       "      <td>52.42</td>\n",
       "      <td>53.0</td>\n",
       "      <td>0</td>\n",
       "      <td>0</td>\n",
       "      <td>3</td>\n",
       "    </tr>\n",
       "    <tr>\n",
       "      <th>2014</th>\n",
       "      <td>10.295181</td>\n",
       "      <td>100.11</td>\n",
       "      <td>11.0</td>\n",
       "      <td>1</td>\n",
       "      <td>0</td>\n",
       "      <td>0</td>\n",
       "    </tr>\n",
       "    <tr>\n",
       "      <th>2014</th>\n",
       "      <td>10.105458</td>\n",
       "      <td>68.25</td>\n",
       "      <td>32.0</td>\n",
       "      <td>0</td>\n",
       "      <td>2</td>\n",
       "      <td>0</td>\n",
       "    </tr>\n",
       "  </tbody>\n",
       "</table>\n",
       "</div>"
      ],
      "text/plain": [
       "      Both sexes (deaths per 100,000)  Cost of Living Index  \\\n",
       "Year                                                          \n",
       "2013                        10.106150                103.01   \n",
       "2013                        10.363239                 71.28   \n",
       "2013                         8.961947                 52.42   \n",
       "2014                        10.295181                100.11   \n",
       "2014                        10.105458                 68.25   \n",
       "\n",
       "      Cost_of_Living_rank Group1 Group2 Group3  \n",
       "Year                                            \n",
       "2013                 11.0      1      0      0  \n",
       "2013                 32.0      0      2      0  \n",
       "2013                 53.0      0      0      3  \n",
       "2014                 11.0      1      0      0  \n",
       "2014                 32.0      0      2      0  "
      ]
     },
     "execution_count": 18,
     "metadata": {},
     "output_type": "execute_result"
    }
   ],
   "source": [
    "# Cost of Living to Suicide rates\n",
    "all_countries = combined_QOF_df[['Country','Year','Both sexes (deaths per 100,000)','Cost of Living Index']]\n",
    "all_countries_2013 = all_countries.loc[all_countries['Year'] == 2013]\n",
    "all_countries_2013[['Cost_of_Living_rank']]=all_countries_2013[['Cost of Living Index']].rank(ascending=False)\n",
    "all_countries_2013_grp1 = all_countries_2013.loc[all_countries_2013['Cost_of_Living_rank']<=21].sort_values('Cost_of_Living_rank')\n",
    "all_countries_2013_grp2 = all_countries_2013[(all_countries_2013['Cost_of_Living_rank']>=22) & (all_countries_2013['Cost_of_Living_rank']<=42)].sort_values('Cost_of_Living_rank')\n",
    "all_countries_2013_grp3 = all_countries_2013.loc[(all_countries_2013['Cost_of_Living_rank']>=43) & (all_countries_2013['Cost_of_Living_rank']<=63)].sort_values('Cost_of_Living_rank') \n",
    "\n",
    "\n",
    "suicide_rate_2013_grp1_median = all_countries_2013_grp1.groupby('Year').median()\n",
    "suicide_rate_2013_grp1_median['Group1']=['1']\n",
    "suicide_rate_2013_grp2_median=all_countries_2013_grp2.groupby('Year').median()\n",
    "suicide_rate_2013_grp2_median['Group2']=['2']\n",
    "suicide_rate_2013_grp3_median=all_countries_2013_grp3.groupby('Year').median()\n",
    "suicide_rate_2013_grp3_median['Group3']=['3']\n",
    "suicide_rate_2013_grp3_median\n",
    "\n",
    "\n",
    "all_countries_2014 = all_countries.loc[all_countries['Year'] == 2014]\n",
    "all_countries_2014[['Cost_of_Living_rank']]=all_countries_2014[['Cost of Living Index']].rank(ascending=False)\n",
    "all_countries_2014_grp1 = all_countries_2014.loc[all_countries_2014['Cost_of_Living_rank']<=21].sort_values('Cost_of_Living_rank')\n",
    "all_countries_2014_grp2 = all_countries_2014[(all_countries_2014['Cost_of_Living_rank']>=22) & (all_countries_2014['Cost_of_Living_rank']<=42)].sort_values('Cost_of_Living_rank')\n",
    "all_countries_2014_grp3 = all_countries_2014.loc[(all_countries_2014['Cost_of_Living_rank']>=43) & (all_countries_2014['Cost_of_Living_rank']<=63)].sort_values('Cost_of_Living_rank') \n",
    "\n",
    "suicide_rate_2014_grp1_median = all_countries_2014_grp1.groupby('Year').median()\n",
    "suicide_rate_2014_grp1_median['Group1']=['1']\n",
    "suicide_rate_2014_grp2_median=all_countries_2014_grp2.groupby('Year').median()\n",
    "suicide_rate_2014_grp2_median['Group2']=['2']\n",
    "suicide_rate_2014_grp3_median=all_countries_2014_grp3.groupby('Year').median()\n",
    "suicide_rate_2014_grp3_median['Group3']=['3']\n",
    "suicide_rate_2014_grp3_median\n",
    "\n",
    "\n",
    "all_countries_2015 = all_countries.loc[all_countries['Year'] == 2015]\n",
    "all_countries_2015[['Cost_of_Living_rank']]=all_countries_2015[['Cost of Living Index']].rank(ascending=False)\n",
    "all_countries_2015_grp1 = all_countries_2015.loc[all_countries_2015['Cost_of_Living_rank']<=21].sort_values('Cost_of_Living_rank')\n",
    "all_countries_2015_grp2 = all_countries_2015[(all_countries_2015['Cost_of_Living_rank']>=22) & (all_countries_2015['Cost_of_Living_rank']<=42)].sort_values('Cost_of_Living_rank')\n",
    "all_countries_2015_grp3 = all_countries_2015.loc[(all_countries_2015['Cost_of_Living_rank']>=43) & (all_countries_2015['Cost_of_Living_rank']<=63)].sort_values('Cost_of_Living_rank') \n",
    "\n",
    "\n",
    "suicide_rate_2015_grp1_median = all_countries_2015_grp1.groupby('Year').median()\n",
    "suicide_rate_2015_grp1_median['Group1']=['1']\n",
    "suicide_rate_2015_grp2_median=all_countries_2015_grp2.groupby('Year').median()\n",
    "suicide_rate_2015_grp2_median['Group2']=['2']\n",
    "suicide_rate_2015_grp3_median=all_countries_2015_grp3.groupby('Year').median()\n",
    "suicide_rate_2015_grp3_median['Group3']=['3']\n",
    "suicide_rate_2015_grp3_median\n",
    "\n",
    "\n",
    "all_countries_2016 = all_countries.loc[all_countries['Year'] == 2016]\n",
    "all_countries_2016[['Cost_of_Living_rank']]=all_countries_2016[['Cost of Living Index']].rank(ascending=False)\n",
    "all_countries_2016_grp1 = all_countries_2016.loc[all_countries_2016['Cost_of_Living_rank']<=21].sort_values('Cost_of_Living_rank')\n",
    "all_countries_2016_grp2 = all_countries_2016[(all_countries_2016['Cost_of_Living_rank']>=22) & (all_countries_2016['Cost_of_Living_rank']<=42)].sort_values('Cost_of_Living_rank')\n",
    "all_countries_2016_grp3 = all_countries_2016.loc[(all_countries_2016['Cost_of_Living_rank']>=43) & (all_countries_2016['Cost_of_Living_rank']<=63)].sort_values('Cost_of_Living_rank') \n",
    "\n",
    "\n",
    "suicide_rate_2016_grp1_median = all_countries_2016_grp1.groupby('Year').median()\n",
    "suicide_rate_2016_grp1_median['Group1']=['1']\n",
    "suicide_rate_2016_grp2_median=all_countries_2016_grp2.groupby('Year').median()\n",
    "suicide_rate_2016_grp2_median['Group2']=['2']\n",
    "suicide_rate_2016_grp3_median=all_countries_2016_grp3.groupby('Year').median()\n",
    "suicide_rate_2016_grp3_median['Group3']=['3']\n",
    "suicide_rate_2016_grp3_median\n",
    "\n",
    "CL_combined_df=pd.concat((suicide_rate_2013_grp1_median,suicide_rate_2013_grp2_median,suicide_rate_2013_grp3_median,\n",
    "                   suicide_rate_2014_grp1_median,suicide_rate_2014_grp2_median,suicide_rate_2014_grp3_median,\n",
    "                  suicide_rate_2015_grp1_median,suicide_rate_2015_grp2_median,suicide_rate_2015_grp3_median,\n",
    "                  suicide_rate_2016_grp1_median,suicide_rate_2016_grp2_median,suicide_rate_2016_grp3_median), axis=0)\n",
    "CL_combined_df=CL_combined_df.fillna(0)\n",
    "CL_combined_df.head()"
   ]
  },
  {
   "cell_type": "code",
   "execution_count": 15,
   "metadata": {},
   "outputs": [
    {
     "data": {
      "image/png": "[encoded data removed]",
      "text/plain": [
       "<Figure size 432x288 with 1 Axes>"
      ]
     },
     "metadata": {},
     "output_type": "display_data"
    },
    {
     "data": {
      "text/plain": [
       "<Figure size 576x288 with 0 Axes>"
      ]
     },
     "metadata": {},
     "output_type": "display_data"
    }
   ],
   "source": [
    "#plot the graph\n",
    "years=[2013,2014,2015,2016]\n",
    "x_axis = np.arange(len(years))\n",
    "bar_width=0.35\n",
    "\n",
    "fig, ax = plt.subplots()\n",
    "plt.figure(figsize=(8,4))\n",
    "\n",
    "width = 0.25         # the width of the bars\n",
    "p1 = ax.bar(x_axis, CL_combined_df[CL_combined_df['Group1']=='1']['Both sexes (deaths per 100,000)'],color='b', width=width)\n",
    "p2 = ax.bar(x_axis + width, CL_combined_df[CL_combined_df['Group2']=='2']['Both sexes (deaths per 100,000)'],color='y', width=width)\n",
    "p3 = ax.bar(x_axis + width + width , CL_combined_df[CL_combined_df['Group3']=='3']['Both sexes (deaths per 100,000)'], color='r', width=width)\n",
    "\n",
    "ax.set_title('Suicide Deaths and Cost of Living')\n",
    "ax.set_xticks(x_axis+ width / 2)\n",
    "ax.set_xticklabels(('2013', '2014', '2015', '2016'))\n",
    "ax.set_xlabel('Year')\n",
    "ax.set_ylabel('Median Suicide deaths per 100,000')\n",
    "\n",
    "\n",
    "ax.legend((p1[0], p2[0],p3[0]), ('High_COL_Indx', 'Medium_COL_Indx','Low_COL_Indx'),fontsize = 10,  bbox_to_anchor=(1.0, 0.5))\n",
    "plt.style.use('fivethirtyeight')\n",
    "ax.autoscale_view()\n",
    "\n",
    "plt.show()"
   ]
  },
  {
   "cell_type": "code",
   "execution_count": 19,
   "metadata": {},
   "outputs": [
    {
     "data": {
      "text/plain": [
       "F_onewayResult(statistic=0.7511246709253777, pvalue=0.4992531687769532)"
      ]
     },
     "execution_count": 19,
     "metadata": {},
     "output_type": "execute_result"
    }
   ],
   "source": [
    "#Onome's Stats Start\n",
    "#Prep Data for Anova test\n",
    "\n",
    "CL_combined_df_Grp1 = CL_combined_df[CL_combined_df['Group1']=='1'][['Both sexes (deaths per 100,000)']]\n",
    "CL_combined_df_Grp2 = CL_combined_df[CL_combined_df['Group2']=='2'][['Both sexes (deaths per 100,000)']]\n",
    "CL_combined_df_Grp3 = CL_combined_df[CL_combined_df['Group3']=='3'][['Both sexes (deaths per 100,000)']]\n",
    "#determinte the P value\n",
    "sts.f_oneway(CL_combined_df_Grp1[\"Both sexes (deaths per 100,000)\"], CL_combined_df_Grp2[\"Both sexes (deaths per 100,000)\"], CL_combined_df_Grp3[\"Both sexes (deaths per 100,000)\"])\n",
    "\n",
    "#Onome's Stats End"
   ]
  },
  {
   "cell_type": "code",
   "execution_count": null,
   "metadata": {},
   "outputs": [],
   "source": [
    "# Did suicide rates decrease over the years as cost of living increased?\n",
    "#The null hypothesis would be that the cost of living index has no effect on suicide rates.\n",
    "#The P- Value is 0.50 is great than 0.05 so we would fail to reject the null hypothesis.\n",
    "#What this means is that cost of living may or may not be a factor in suicide rates.\n",
    "#The data did not have an enough evidence to prove the null hypothesis."
   ]
  },
  {
   "cell_type": "code",
   "execution_count": 20,
   "metadata": {},
   "outputs": [
    {
     "name": "stdout",
     "output_type": "stream",
     "text": [
      "Cost of Living Index Group 1 rank mean is 10.065392428292938\n",
      "Cost of Living  Index Group 2 rank mean is 9.53446832021336\n",
      "Cost of Living  Index Group 3 rank mean is 9.225597811447491\n"
     ]
    }
   ],
   "source": [
    "# Compare the group means\n",
    "CL_combined_df_Grp1_mean=CL_combined_df_Grp1['Both sexes (deaths per 100,000)'].mean()\n",
    "CL_combined_df_Grp2_mean=CL_combined_df_Grp2['Both sexes (deaths per 100,000)'].mean()\n",
    "CL_combined_df_Grp3_mean=CL_combined_df_Grp3['Both sexes (deaths per 100,000)'].mean()\n",
    "print(f\"Cost of Living Index Group 1 rank mean is {CL_combined_df_Grp1_mean}\")\n",
    "print(f\"Cost of Living  Index Group 2 rank mean is {CL_combined_df_Grp2_mean}\")\n",
    "print(f\"Cost of Living  Index Group 3 rank mean is {CL_combined_df_Grp3_mean}\")\n",
    "\n",
    "# The mean of Group1 is statistically different from the other groups.\n",
    "# if we were to continue on this project we would run further analysis on Group1"
   ]
  },
  {
   "cell_type": "code",
   "execution_count": 21,
   "metadata": {},
   "outputs": [
    {
     "data": {
      "image/png": "[encoded data removed]",
      "text/plain": [
       "<Figure size 432x288 with 1 Axes>"
      ]
     },
     "metadata": {},
     "output_type": "display_data"
    }
   ],
   "source": [
    "#Suicides Deaths gender analysis\n",
    "combined_gender_df=combined_QOF_df[['Year','Female (deaths per 100,000)','Male (deaths per 100,000)']]\n",
    "combined_gender_female_df=combined_gender_df.groupby('Year')[['Female (deaths per 100,000)']].sum()\n",
    "combined_gender_male_df=combined_gender_df.groupby('Year')[['Male (deaths per 100,000)']].sum()\n",
    "\n",
    "years=['2013','2014','2015','2016']\n",
    "plt.plot( years, combined_gender_female_df, marker='o',  markerfacecolor='blue', markersize=12, color='blue', linewidth=4,linestyle='dashed', label=\"Female\")\n",
    "plt.plot( years, combined_gender_male_df, marker='o', markerfacecolor='red', markersize=12, color='red', linewidth=4,linestyle='dashed', label=\"Male\")\n",
    "plt.xticks(rotation='vertical')\n",
    "plt.suptitle(\"Suicide Deaths by Gender\")\n",
    "plt.legend(fontsize = 10,  bbox_to_anchor=(1.25, 0.5))\n",
    "plt.xlabel(\"Year\")\n",
    "plt.ylabel(\"Aggregate Suicide deaths per 100,000\")\n",
    "plt.style.use('fivethirtyeight')\n",
    "plt.show()"
   ]
  },
  {
   "cell_type": "code",
   "execution_count": null,
   "metadata": {},
   "outputs": [],
   "source": [
    "# Onome codes ends here"
   ]
  },
  {
   "cell_type": "code",
   "execution_count": 25,
   "metadata": {},
   "outputs": [
    {
     "data": {
      "text/plain": [
       "Ttest_indResult(statistic=-7.70181058988496, pvalue=0.003062909419315914)"
      ]
     },
     "execution_count": 25,
     "metadata": {},
     "output_type": "execute_result"
    }
   ],
   "source": [
    "#determinte the T value\n",
    "#sts.f_oneway(combined_gender_female_df[\"Female (deaths per 100,000)\"], combined_gender_male_df[\"Male (deaths per 100,000)\"])\n",
    "sts.ttest_ind(combined_gender_female_df[\"Female (deaths per 100,000)\"], combined_gender_male_df[\"Male (deaths per 100,000)\"], equal_var=False)"
   ]
  },
  {
   "cell_type": "code",
   "execution_count": 26,
   "metadata": {},
   "outputs": [],
   "source": [
    "# Is suicide rate higher in male than females?\n",
    "#The null hypothesis would be that the suicide rates is the same between males and females.\n",
    "#The P-value is 0.0030 based on T test which is less than 0.05 so we would reject the null hypothesis.\n",
    "#The suicide rates may be higher in males than females\n",
    "#The significant difference reported in the genders would require further research into what may be the cause of this discrepancy.\n",
    "#What this means is that gender may be a factor in suicide rates.\n"
   ]
  },
  {
   "cell_type": "code",
   "execution_count": 27,
   "metadata": {},
   "outputs": [],
   "source": [
    "# Stacey starts here\n",
    "# New Health care Ranking"
   ]
  },
  {
   "cell_type": "code",
   "execution_count": 28,
   "metadata": {},
   "outputs": [
    {
     "data": {
      "text/html": [
       "<div>\n",
       "<style scoped>\n",
       "    .dataframe tbody tr th:only-of-type {\n",
       "        vertical-align: middle;\n",
       "    }\n",
       "\n",
       "    .dataframe tbody tr th {\n",
       "        vertical-align: top;\n",
       "    }\n",
       "\n",
       "    .dataframe thead th {\n",
       "        text-align: right;\n",
       "    }\n",
       "</style>\n",
       "<table border=\"1\" class=\"dataframe\">\n",
       "  <thead>\n",
       "    <tr style=\"text-align: right;\">\n",
       "      <th></th>\n",
       "      <th>Both sexes (deaths per 100,000)</th>\n",
       "      <th>Group1</th>\n",
       "      <th>Group2</th>\n",
       "      <th>Group3</th>\n",
       "      <th>Health Care Index</th>\n",
       "      <th>QOF_rank</th>\n",
       "    </tr>\n",
       "    <tr>\n",
       "      <th>Year</th>\n",
       "      <th></th>\n",
       "      <th></th>\n",
       "      <th></th>\n",
       "      <th></th>\n",
       "      <th></th>\n",
       "      <th></th>\n",
       "    </tr>\n",
       "  </thead>\n",
       "  <tbody>\n",
       "    <tr>\n",
       "      <th>2013</th>\n",
       "      <td>11.074010</td>\n",
       "      <td>1</td>\n",
       "      <td>0</td>\n",
       "      <td>0</td>\n",
       "      <td>80.09</td>\n",
       "      <td>11.0</td>\n",
       "    </tr>\n",
       "    <tr>\n",
       "      <th>2013</th>\n",
       "      <td>9.780456</td>\n",
       "      <td>0</td>\n",
       "      <td>2</td>\n",
       "      <td>0</td>\n",
       "      <td>66.80</td>\n",
       "      <td>32.0</td>\n",
       "    </tr>\n",
       "    <tr>\n",
       "      <th>2013</th>\n",
       "      <td>8.394513</td>\n",
       "      <td>0</td>\n",
       "      <td>0</td>\n",
       "      <td>3</td>\n",
       "      <td>50.40</td>\n",
       "      <td>53.0</td>\n",
       "    </tr>\n",
       "    <tr>\n",
       "      <th>2014</th>\n",
       "      <td>10.912077</td>\n",
       "      <td>1</td>\n",
       "      <td>0</td>\n",
       "      <td>0</td>\n",
       "      <td>76.34</td>\n",
       "      <td>11.0</td>\n",
       "    </tr>\n",
       "    <tr>\n",
       "      <th>2014</th>\n",
       "      <td>8.527019</td>\n",
       "      <td>0</td>\n",
       "      <td>2</td>\n",
       "      <td>0</td>\n",
       "      <td>65.12</td>\n",
       "      <td>32.0</td>\n",
       "    </tr>\n",
       "  </tbody>\n",
       "</table>\n",
       "</div>"
      ],
      "text/plain": [
       "      Both sexes (deaths per 100,000) Group1 Group2 Group3  Health Care Index  \\\n",
       "Year                                                                            \n",
       "2013                        11.074010      1      0      0              80.09   \n",
       "2013                         9.780456      0      2      0              66.80   \n",
       "2013                         8.394513      0      0      3              50.40   \n",
       "2014                        10.912077      1      0      0              76.34   \n",
       "2014                         8.527019      0      2      0              65.12   \n",
       "\n",
       "      QOF_rank  \n",
       "Year            \n",
       "2013      11.0  \n",
       "2013      32.0  \n",
       "2013      53.0  \n",
       "2014      11.0  \n",
       "2014      32.0  "
      ]
     },
     "execution_count": 28,
     "metadata": {},
     "output_type": "execute_result"
    }
   ],
   "source": [
    "#Health care RANKING\n",
    "#Rank 2013 by Health Care Index\n",
    "HCI_rank_2013_df=combined_QOF_df[combined_QOF_df['Year']==2013][['Country','Year','Health Care Index','Both sexes (deaths per 100,000)']]\n",
    "HCI_rank_2013_df[['QOF_rank']]=HCI_rank_2013_df[['Health Care Index']].rank(ascending=False)\n",
    "HCI_rank_2013_1_df=HCI_rank_2013_df.loc[HCI_rank_2013_df['QOF_rank']<=21].sort_values('QOF_rank')\n",
    "HCI_rank_2013_2_df=HCI_rank_2013_df.loc[(HCI_rank_2013_df['QOF_rank']>=22) & (HCI_rank_2013_df['QOF_rank']<=42)].sort_values('QOF_rank')\n",
    "HCI_rank_2013_3_df=HCI_rank_2013_df.loc[(HCI_rank_2013_df['QOF_rank']>=43) & (HCI_rank_2013_df['QOF_rank']<=63)].sort_values('QOF_rank')# #2013 HCI\n",
    "\n",
    "HCI_Median_Suicide_rate_2013_1=HCI_rank_2013_1_df.groupby('Year').median()\n",
    "HCI_Median_Suicide_rate_2013_1['Group1']=['1']\n",
    "HCI_Median_Suicide_rate_2013_2=HCI_rank_2013_2_df.groupby('Year').median()\n",
    "HCI_Median_Suicide_rate_2013_2['Group2']=['2']\n",
    "HCI_Median_Suicide_rate_2013_3=HCI_rank_2013_3_df.groupby('Year').median()\n",
    "HCI_Median_Suicide_rate_2013_3['Group3']=['3']\n",
    "HCI_Median_Suicide_rate_2013_3\n",
    "\n",
    "\n",
    "# #Rank 2014 by quality of life\n",
    "HCI_rank_2014_df=combined_QOF_df.loc[combined_QOF_df['Year']==2014][['Country','Year','Health Care Index','Both sexes (deaths per 100,000)']]\n",
    "HCI_rank_2014_df[['QOF_rank']]=HCI_rank_2014_df[['Health Care Index']].rank(ascending=False)\n",
    "HCI_rank_2014_1_df=HCI_rank_2014_df.loc[HCI_rank_2014_df['QOF_rank']<=21].sort_values('QOF_rank')\n",
    "HCI_rank_2014_2_df=HCI_rank_2014_df.loc[(HCI_rank_2014_df['QOF_rank']>=22) & (HCI_rank_2014_df['QOF_rank']<=42)].sort_values('QOF_rank')\n",
    "HCI_rank_2014_3_df=HCI_rank_2014_df.loc[(HCI_rank_2014_df['QOF_rank']>=43) & (HCI_rank_2014_df['QOF_rank']<=63)].sort_values('QOF_rank')\n",
    "\n",
    "HCI_Median_Suicide_rate_2014_1=HCI_rank_2014_1_df.groupby('Year').median()\n",
    "HCI_Median_Suicide_rate_2014_1['Group1']=['1']\n",
    "HCI_Median_Suicide_rate_2014_2=HCI_rank_2014_2_df.groupby('Year').median()\n",
    "HCI_Median_Suicide_rate_2014_2['Group2']=['2']\n",
    "HCI_Median_Suicide_rate_2014_3=HCI_rank_2014_3_df.groupby('Year').median()\n",
    "HCI_Median_Suicide_rate_2014_3['Group3']=['3']\n",
    "HCI_Median_Suicide_rate_2014_3\n",
    "\n",
    "# # #Rank 2015 by quality of life\n",
    "HCI_rank_2015_df=combined_QOF_df.loc[combined_QOF_df['Year']==2015][['Country','Year','Health Care Index','Both sexes (deaths per 100,000)']]\n",
    "HCI_rank_2015_df[['QOF_rank']]=HCI_rank_2015_df[['Health Care Index']].rank(ascending=False)\n",
    "HCI_rank_2015_1_df=HCI_rank_2015_df.loc[HCI_rank_2015_df['QOF_rank']<=21].sort_values('QOF_rank')\n",
    "HCI_rank_2015_2_df=HCI_rank_2015_df.loc[(HCI_rank_2015_df['QOF_rank']>=22) & (HCI_rank_2015_df['QOF_rank']<=42)].sort_values('QOF_rank')\n",
    "HCI_rank_2015_3_df=HCI_rank_2015_df.loc[(HCI_rank_2015_df['QOF_rank']>=43) & (HCI_rank_2015_df['QOF_rank']<=63)].sort_values('QOF_rank')\n",
    "\n",
    "HCI_Median_Suicide_rate_2015_1=HCI_rank_2015_1_df.groupby('Year').median()\n",
    "HCI_Median_Suicide_rate_2015_1['Group1']=['1']\n",
    "HCI_Median_Suicide_rate_2015_2=HCI_rank_2015_2_df.groupby('Year').median()\n",
    "HCI_Median_Suicide_rate_2015_2['Group2']=['2']\n",
    "HCI_Median_Suicide_rate_2015_3=HCI_rank_2015_3_df.groupby('Year').median()\n",
    "HCI_Median_Suicide_rate_2015_3['Group3']=['3']\n",
    "HCI_Median_Suicide_rate_2015_3\n",
    "\n",
    "\n",
    "# # #Rank 2016 by quality of life\n",
    "HCI_rank_2016_df=combined_QOF_df.loc[combined_QOF_df['Year']==2016][['Country','Year','Health Care Index','Both sexes (deaths per 100,000)']]\n",
    "HCI_rank_2016_df[['QOF_rank']]=HCI_rank_2016_df[['Health Care Index']].rank(ascending=False)\n",
    "HCI_rank_2016_1_df=HCI_rank_2016_df.loc[HCI_rank_2016_df['QOF_rank']<=21].sort_values('QOF_rank')\n",
    "HCI_rank_2016_2_df=HCI_rank_2016_df.loc[(HCI_rank_2016_df['QOF_rank']>=22) & (HCI_rank_2016_df['QOF_rank']<=42)].sort_values('QOF_rank')\n",
    "HCI_rank_2016_3_df=HCI_rank_2016_df.loc[(HCI_rank_2016_df['QOF_rank']>=43) & (HCI_rank_2016_df['QOF_rank']<=63)].sort_values('QOF_rank')\n",
    "\n",
    "HCI_Median_Suicide_rate_2016_1=HCI_rank_2016_1_df.groupby('Year').median()\n",
    "HCI_Median_Suicide_rate_2016_1['Group1']=['1']\n",
    "HCI_Median_Suicide_rate_2016_2=HCI_rank_2016_2_df.groupby('Year').median()\n",
    "HCI_Median_Suicide_rate_2016_2['Group2']=['2']\n",
    "HCI_Median_Suicide_rate_2016_3=HCI_rank_2016_3_df.groupby('Year').median()\n",
    "HCI_Median_Suicide_rate_2016_3['Group3']=['3']\n",
    "HCI_Median_Suicide_rate_2016_3\n",
    "\n",
    "HCI_combined_df=pd.concat((HCI_Median_Suicide_rate_2013_1,HCI_Median_Suicide_rate_2013_2,HCI_Median_Suicide_rate_2013_3,\n",
    "                   HCI_Median_Suicide_rate_2014_1,HCI_Median_Suicide_rate_2014_2,HCI_Median_Suicide_rate_2014_3,\n",
    "                  HCI_Median_Suicide_rate_2015_1,HCI_Median_Suicide_rate_2015_2,HCI_Median_Suicide_rate_2015_3,\n",
    "                  HCI_Median_Suicide_rate_2016_1,HCI_Median_Suicide_rate_2016_2,HCI_Median_Suicide_rate_2016_3), axis=0)\n",
    "HCI_combined_df=HCI_combined_df.fillna(0)\n",
    "HCI_combined_df.head()\n",
    "\n"
   ]
  },
  {
   "cell_type": "code",
   "execution_count": 29,
   "metadata": {},
   "outputs": [
    {
     "data": {
      "image/png": "[encoded data removed]",
      "text/plain": [
       "<Figure size 432x288 with 1 Axes>"
      ]
     },
     "metadata": {},
     "output_type": "display_data"
    },
    {
     "data": {
      "text/plain": [
       "<Figure size 576x288 with 0 Axes>"
      ]
     },
     "metadata": {},
     "output_type": "display_data"
    }
   ],
   "source": [
    "#plot the graph\n",
    "years=[2013,2014,2015,2016]\n",
    "x_axis = np.arange(len(years))\n",
    "bar_width=0.35\n",
    "\n",
    "fig, ax = plt.subplots()\n",
    "plt.figure(figsize=(8,4))\n",
    "\n",
    "width = 0.25         # the width of the bars\n",
    "p1 = ax.bar(x_axis, HCI_combined_df[HCI_combined_df['Group1']=='1']['Both sexes (deaths per 100,000)'],color='b', width=width)\n",
    "p2 = ax.bar(x_axis + width, HCI_combined_df[HCI_combined_df['Group2']=='2']['Both sexes (deaths per 100,000)'],color='y', width=width)\n",
    "p3 = ax.bar(x_axis + width + width , HCI_combined_df[HCI_combined_df['Group3']=='3']['Both sexes (deaths per 100,000)'], color='r', width=width)\n",
    "\n",
    "ax.set_title('Suicide Rates and Health Care Index')\n",
    "ax.set_xticks(x_axis+ width / 2)\n",
    "ax.set_xticklabels(('2013', '2014', '2015', '2016'))\n",
    "ax.set_xlabel('Year')\n",
    "ax.set_ylabel('Median Suicide deaths per 100,000')\n",
    "\n",
    "\n",
    "ax.legend((p1[0], p2[0],p3[0]), ('High_HCI', 'Medium_HCI','Low_HCI'),fontsize = 10,  bbox_to_anchor=(1.0, 0.5))\n",
    "plt.style.use('fivethirtyeight')\n",
    "ax.autoscale_view()\n",
    "\n",
    "plt.show()"
   ]
  },
  {
   "cell_type": "code",
   "execution_count": null,
   "metadata": {},
   "outputs": [],
   "source": [
    "#Stacey ends here\n"
   ]
  },
  {
   "cell_type": "code",
   "execution_count": 30,
   "metadata": {},
   "outputs": [
    {
     "data": {
      "text/plain": [
       "F_onewayResult(statistic=3.571749441459683, pvalue=0.07212765065145145)"
      ]
     },
     "execution_count": 30,
     "metadata": {},
     "output_type": "execute_result"
    }
   ],
   "source": [
    "#Stacey's Stats Start\n",
    "#Prep Data for Anova test\n",
    "\n",
    "HCI_combined_df_Grp1 = HCI_combined_df[HCI_combined_df['Group1']=='1'][['Both sexes (deaths per 100,000)']]\n",
    "HCI_combined_df_Grp2 = HCI_combined_df[HCI_combined_df['Group2']=='2'][['Both sexes (deaths per 100,000)']]\n",
    "HCI_combined_df_Grp3 = HCI_combined_df[HCI_combined_df['Group3']=='3'][['Both sexes (deaths per 100,000)']]\n",
    "#determinte the P value\n",
    "sts.f_oneway(HCI_combined_df_Grp1[\"Both sexes (deaths per 100,000)\"], HCI_combined_df_Grp2[\"Both sexes (deaths per 100,000)\"], HCI_combined_df_Grp3[\"Both sexes (deaths per 100,000)\"])\n",
    "\n",
    "#Stacey's Stats End"
   ]
  },
  {
   "cell_type": "code",
   "execution_count": 31,
   "metadata": {},
   "outputs": [],
   "source": [
    "#Did the suicide rate decrease as the health care index increases?\n",
    "#The null hypothesis would be that the health care has no effect on suicide rates.\n",
    "#The P- Value is 0.07 so we would fail to reject the null hypothesis.\n",
    "#What this means is that health care may or may have an effect on suicide rates. \n",
    "#The data did not have an enough evidence to prove the null hypothesis.\n"
   ]
  },
  {
   "cell_type": "code",
   "execution_count": 32,
   "metadata": {},
   "outputs": [
    {
     "name": "stdout",
     "output_type": "stream",
     "text": [
      "Health Care Index Group 1 rank mean is 10.57640617176045\n",
      "Health Care Index Group 2 rank mean is 9.240078778803015\n",
      "Health Care Index Group 3 rank mean is 8.708609824704885\n"
     ]
    }
   ],
   "source": [
    "# Compare the group means\n",
    "HCI_combined_df_Grp1_mean=HCI_combined_df_Grp1['Both sexes (deaths per 100,000)'].mean()\n",
    "HCI_combined_df_Grp2_mean=HCI_combined_df_Grp2['Both sexes (deaths per 100,000)'].mean()\n",
    "HCI_combined_df_Grp3_mean=HCI_combined_df_Grp3['Both sexes (deaths per 100,000)'].mean()\n",
    "print(f\"Health Care Index Group 1 rank mean is {HCI_combined_df_Grp1_mean}\")\n",
    "print(f\"Health Care Index Group 2 rank mean is {HCI_combined_df_Grp2_mean}\")\n",
    "print(f\"Health Care Index Group 3 rank mean is {HCI_combined_df_Grp3_mean}\")\n",
    "\n",
    "# The mean of Group1 is statistically different from the other groups.\n",
    "# if we were to continue on this project we would run further analysis on Group1"
   ]
  },
  {
   "cell_type": "code",
   "execution_count": null,
   "metadata": {},
   "outputs": [],
   "source": []
  }
 ],
 "metadata": {
  "kernelspec": {
   "display_name": "Python 3",
   "language": "python",
   "name": "python3"
  },
  "language_info": {
   "codemirror_mode": {
    "name": "ipython",
    "version": 3
   },
   "file_extension": ".py",
   "mimetype": "text/x-python",
   "name": "python",
   "nbconvert_exporter": "python",
   "pygments_lexer": "ipython3",
   "version": "3.6.9"
  }
 },
 "nbformat": 4,
 "nbformat_minor": 4
}
