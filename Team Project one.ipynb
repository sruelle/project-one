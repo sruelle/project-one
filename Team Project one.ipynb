{
 "cells": [
  {
   "cell_type": "code",
   "execution_count": null,
   "metadata": {},
   "outputs": [],
   "source": [
    "import pandas as pd\n"
   ]
  },
  {
   "cell_type": "code",
   "execution_count": null,
   "metadata": {},
   "outputs": [],
   "source": [
    "# Mercy codes starts here\n",
    "#practice branching\n"
   ]
  },
  {
   "cell_type": "code",
   "execution_count": null,
   "metadata": {},
   "outputs": [],
   "source": [
    "# Mercy codes ends here"
   ]
  },
  {
   "cell_type": "code",
   "execution_count": null,
   "metadata": {},
   "outputs": [],
   "source": [
    "# Ash codes starts here\n",
    "\n",
    "#Ash just adding some notes\n",
    "print(\"Ash is doing this\")\n",
    "#Note 1\n",
    "#Note 2\n",
    "#Note 3"
   ]
  },
  {
   "cell_type": "code",
   "execution_count": null,
   "metadata": {},
   "outputs": [],
   "source": [
    "# Ash Codes ends here"
   ]
  },
  {
   "cell_type": "code",
   "execution_count": null,
   "metadata": {},
   "outputs": [],
   "source": [
    "# Onome codes starts here"
   ]
  },
  {
   "cell_type": "code",
   "execution_count": null,
   "metadata": {},
   "outputs": [],
   "source": [
    "# Take in all of Quality of Life data and read it into pandas\n",
    "\n",
    "quality_of_life_2013 = \"./Resources/2013_Quality_of_life_data.csv\"\n",
    "quality_of_life_2014 = \"./Resources/2014_Quality_of_life_data.csv\"\n",
    "quality_of_life_2015 = \"./Resources/2015_Quality_of_life_data.csv\"\n",
    "quality_of_life_2016 = \"./Resources/2016_Quality_of_life_data.csv\"\n",
    "suicide_rates = \"./Resources/suicide-death-rates-by-sex.csv\"\n",
    "\n",
    "quality_of_life_2013_df = pd.read_csv(quality_of_life_2013)\n",
    "quality_of_life_2014_df = pd.read_csv(quality_of_life_2014)\n",
    "quality_of_life_2015_df = pd.read_csv(quality_of_life_2015)\n",
    "quality_of_life_2016_df = pd.read_csv(quality_of_life_2016)\n",
    "suicide_rates = pd.read_csv(suicide_rates)\n",
    "\n",
    "quality_of_life_2013_df"
   ]
  },
  {
   "cell_type": "code",
   "execution_count": null,
   "metadata": {},
   "outputs": [],
   "source": [
    "# Merge the first two datasets on \"quality of life\" \n",
    "combined_QOF_df = pd.merge(quality_of_life_2013_df, quality_of_life_2014_df, on='Country')\n",
    "\n",
    "\n",
    "# Rename our _x columns to have year appened to each column name\n",
    "combined_QOF_df = combined_QOF_df.rename(columns={\"Rank_x\":\"2013 Rank\",\n",
    "                                                  \"Year_x\":\"Year 2013\",\n",
    "                                                  \"Quality of Life Index_x\":\"2013 Quality of Life Index\",\n",
    "                                                  \"Purchasing Power Index_x\":\"2013 Purchasing Power Index\",\n",
    "                                                  \"Safety Index_x\":\"2013 Safety Index\",\n",
    "                                                  \"Health Care Index_x\":\"2013 Health Care Index\",\n",
    "                                                  \"Cost of Living Index_x\":\"2013 Cost of Living Index\",\n",
    "                                                  \"Property Price to Income Ratio_x\":\"2013 Property Price to Income Ratio\",\n",
    "                                                  \"Traffic Commute Time Index_x\":\"2013 Traffic Commute Time Index\"\n",
    "                                                 })\n",
    "\n",
    "\n",
    "# Rename our _y columns to have year appened to each column name\n",
    "combined_QOF_df = combined_QOF_df.rename(columns={\"Rank_y\":\"2014 Rank\",\n",
    "                                                  \"Year_y\":\"Year 2014\",\n",
    "                                                  \"Quality of Life Index_y\":\"2014 Quality of Life Index\",\n",
    "                                                  \"Purchasing Power Index_y\":\"2014 Purchasing Power Index\",\n",
    "                                                  \"Safety Index_y\":\"2014 Safety Index\",\n",
    "                                                  \"Health Care Index_y\":\"2014 Health Care Index\",\n",
    "                                                  \"Cost of Living Index_y\":\"2014 Cost of Living Index\",\n",
    "                                                  \"Property Price to Income Ratio_y\":\"2014 Property Price to Income Ratio\",\n",
    "                                                  \"Traffic Commute Time Index_y\":\"2014 Traffic Commute Time Index\"\n",
    "                                                 })\n",
    "\n",
    "combined_QOF_df\n",
    "\n"
   ]
  },
  {
   "cell_type": "code",
   "execution_count": null,
   "metadata": {},
   "outputs": [],
   "source": [
    "# Merge our newly combined dataframe with the 2015 dataframe\n",
    "combined_QOF_df = pd.merge(combined_QOF_df, quality_of_life_2015_df, on=\"Country\")\n",
    "\n",
    "combined_QOF_df = combined_QOF_df.rename(columns={\"Rank\":\"2015 Rank\",\n",
    "                                                  \"Year\":\"Year 2015\",\n",
    "                                                  \"Quality of Life Index\":\"2015 Quality of Life Index\",\n",
    "                                                  \"Purchasing Power Index\":\"2015 Purchasing Power Index\",\n",
    "                                                  \"Safety Index\":\"2015 Safety Index\",\n",
    "                                                  \"Health Care Index\":\"2015 Health Care Index\",\n",
    "                                                  \"Cost of Living Index\":\"2015 Cost of Living Index\",\n",
    "                                                  \"Property Price to Income Ratio\":\"2015 Property Price to Income Ratio\",\n",
    "                                                  \"Traffic Commute Time Index\":\"2015 Traffic Commute Time Index\"\n",
    "                                                 })\n",
    "\n",
    "combined_QOF_df"
   ]
  },
  {
   "cell_type": "code",
   "execution_count": null,
   "metadata": {},
   "outputs": [],
   "source": [
    "# Merge our newly combined dataframe with the 2016 dataframe\n",
    "combined_QOF_df = pd.merge(combined_QOF_df, quality_of_life_2016_df, on=\"Country\")\n",
    "\n",
    "combined_QOF_df = combined_QOF_df.rename(columns={\"Rank\":\"2016 Rank\",\n",
    "                                                  \"Year\":\"Year 2016\",\n",
    "                                                  \"Quality of Life Index\":\"2016 Quality of Life Index\",\n",
    "                                                  \"Purchasing Power Index\":\"2016 Purchasing Power Index\",\n",
    "                                                  \"Safety Index\":\"2016 Safety Index\",\n",
    "                                                  \"Health Care Index\":\"2016 Health Care Index\",\n",
    "                                                  \"Cost of Living Index\":\"2016 Cost of Living Index\",\n",
    "                                                  \"Property Price to Income Ratio\":\"2016 Property Price to Income Ratio\",\n",
    "                                                  \"Traffic Commute Time Index\":\"2016 Traffic Commute Time Index\"\n",
    "                                                 })\n",
    "\n",
    "combined_QOF_df"
   ]
  },
  {
   "cell_type": "code",
   "execution_count": null,
   "metadata": {},
   "outputs": [],
   "source": [
    "# Onome codes ends herd"
   ]
  },
  {
   "cell_type": "code",
   "execution_count": null,
   "metadata": {},
   "outputs": [],
   "source": [
    "# Stacey starts here\n",
    "#Hi it's me I finally did it!\n"
   ]
  },
  {
   "cell_type": "code",
   "execution_count": null,
   "metadata": {},
   "outputs": [],
   "source": [
    "#Stacey ends here\n"
   ]
  }
 ],
 "metadata": {
  "kernelspec": {
   "display_name": "Python 3",
   "language": "python",
   "name": "python3"
  },
  "language_info": {
   "codemirror_mode": {
    "name": "ipython",
    "version": 3
   },
   "file_extension": ".py",
   "mimetype": "text/x-python",
   "name": "python",
   "nbconvert_exporter": "python",
   "pygments_lexer": "ipython3",
   "version": "3.7.4"
  }
 },
 "nbformat": 4,
 "nbformat_minor": 4
}
